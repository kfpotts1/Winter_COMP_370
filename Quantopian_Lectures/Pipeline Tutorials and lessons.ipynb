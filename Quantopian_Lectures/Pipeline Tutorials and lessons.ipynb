{
 "cells": [
  {
   "cell_type": "markdown",
   "metadata": {},
   "source": [
    "#Pipeline tutorial Lesson 2"
   ]
  },
  {
   "cell_type": "markdown",
   "metadata": {},
   "source": [
    "##Creating a Pipeline"
   ]
  },
  {
   "cell_type": "code",
   "execution_count": 1,
   "metadata": {
    "collapsed": true
   },
   "outputs": [],
   "source": [
    "# importing the pipeline class\n",
    "from quantopian.pipeline import Pipeline"
   ]
  },
  {
   "cell_type": "code",
   "execution_count": 2,
   "metadata": {
    "collapsed": true
   },
   "outputs": [],
   "source": [
    "# define a function to wrap our pipeline\n",
    "# for now this returns an empty pipeline\n",
    "def make_pipeline():\n",
    "    return Pipeline()\n"
   ]
  },
  {
   "cell_type": "code",
   "execution_count": 3,
   "metadata": {
    "collapsed": true
   },
   "outputs": [],
   "source": [
    "# instantiate pipeline by running make_pipeline()\n",
    "my_pipe = make_pipeline()"
   ]
  },
  {
   "cell_type": "markdown",
   "metadata": {},
   "source": [
    "##Running the Pipeline\n",
    "Before running our pipeline, we first need to import `run_pipeline`, a research-only function that allows us to run a pipeline over a specified time period."
   ]
  },
  {
   "cell_type": "code",
   "execution_count": 4,
   "metadata": {
    "collapsed": true
   },
   "outputs": [],
   "source": [
    "from quantopian.research import run_pipeline"
   ]
  },
  {
   "cell_type": "code",
   "execution_count": 5,
   "metadata": {
    "collapsed": true
   },
   "outputs": [],
   "source": [
    "# run the pipeline for a single day\n",
    "result = run_pipeline(my_pipe, '2015-05-05','2015-05-05')"
   ]
  },
  {
   "cell_type": "markdown",
   "metadata": {},
   "source": [
    "call to `run_pipeline` returns a [pandas DataFrame](http://pandas.pydata.org/pandas-docs/stable/generated/pandas.DataFrame.html) indexed by date and securities"
   ]
  },
  {
   "cell_type": "code",
   "execution_count": 6,
   "metadata": {
    "collapsed": false
   },
   "outputs": [
    {
     "data": {
      "text/html": [
       "<div>\n",
       "<table border=\"1\" class=\"dataframe\">\n",
       "  <thead>\n",
       "    <tr style=\"text-align: right;\">\n",
       "      <th></th>\n",
       "      <th></th>\n",
       "    </tr>\n",
       "  </thead>\n",
       "  <tbody>\n",
       "    <tr>\n",
       "      <th rowspan=\"5\" valign=\"top\">2015-05-05 00:00:00+00:00</th>\n",
       "      <th>Equity(2 [ARNC])</th>\n",
       "    </tr>\n",
       "    <tr>\n",
       "      <th>Equity(21 [AAME])</th>\n",
       "    </tr>\n",
       "    <tr>\n",
       "      <th>Equity(24 [AAPL])</th>\n",
       "    </tr>\n",
       "    <tr>\n",
       "      <th>Equity(25 [ARNC_PR])</th>\n",
       "    </tr>\n",
       "    <tr>\n",
       "      <th>Equity(31 [ABAX])</th>\n",
       "    </tr>\n",
       "  </tbody>\n",
       "</table>\n",
       "</div>"
      ],
      "text/plain": [
       "Empty DataFrame\n",
       "Columns: []\n",
       "Index: [(2015-05-05 00:00:00+00:00, Equity(2 [ARNC])), (2015-05-05 00:00:00+00:00, Equity(21 [AAME])), (2015-05-05 00:00:00+00:00, Equity(24 [AAPL])), (2015-05-05 00:00:00+00:00, Equity(25 [ARNC_PR])), (2015-05-05 00:00:00+00:00, Equity(31 [ABAX]))]"
      ]
     },
     "execution_count": 6,
     "metadata": {},
     "output_type": "execute_result"
    }
   ],
   "source": [
    "# let's take a look\n",
    "result.head()"
   ]
  },
  {
   "cell_type": "markdown",
   "metadata": {},
   "source": [
    "The output of an empty pipeline is a datafame without columns"
   ]
  },
  {
   "cell_type": "markdown",
   "metadata": {},
   "source": [
    "#Pipeline tutorial Lesson 3"
   ]
  },
  {
   "cell_type": "markdown",
   "metadata": {},
   "source": [
    "##Factors\n",
    "A factor is a fucntion from an asset and a moment in time to a number.\n",
    "$$f(asset, timestamp)\\to numerical value$$\n",
    "\n",
    "Factors represent the result of any computation producing a numerical result. Factors require a column of data as well as a window length.\n",
    "\n",
    "The Simplest factors in Pipeline are [built-in Factors](https://www.quantopian.com/help#built-in-factors) which are prebuilt to perform common computations. \n",
    "\n"
   ]
  },
  {
   "cell_type": "markdown",
   "metadata": {},
   "source": [
    "I will use the built in `SimpleMovingAverage` factor for a 10-day window. It is first necessary to import the `SimpleMovingAverage` factor and also the [USEquityPricing dataset](https://www.quantopian.com/help#importing-datasets)"
   ]
  },
  {
   "cell_type": "code",
   "execution_count": 7,
   "metadata": {
    "collapsed": true
   },
   "outputs": [],
   "source": [
    "from quantopian.pipeline.data.builtin import USEquityPricing\n",
    "from quantopian.pipeline.factors import SimpleMovingAverage"
   ]
  },
  {
   "cell_type": "markdown",
   "metadata": {},
   "source": [
    "##Creating a Factor"
   ]
  },
  {
   "cell_type": "markdown",
   "metadata": {},
   "source": [
    "creates a Factor for computing the 10-day mean close price"
   ]
  },
  {
   "cell_type": "code",
   "execution_count": 8,
   "metadata": {
    "collapsed": true
   },
   "outputs": [],
   "source": [
    "mean_close_10 = SimpleMovingAverage(inputs=[USEquityPricing.close],\n",
    "                                    window_length=10)"
   ]
  },
  {
   "cell_type": "markdown",
   "metadata": {},
   "source": [
    "##Adding a Factor to a Pipeline\n",
    "First we will update the old `make_pipeline` function using the new instantiated factor. Then we tell the pipeline to compute the factor by passing it a `columns` argument, which should be a dictionary mapping column names to factors, filter, or classifiers."
   ]
  },
  {
   "cell_type": "code",
   "execution_count": 9,
   "metadata": {
    "collapsed": true
   },
   "outputs": [],
   "source": [
    "def make_pipeline():\n",
    "    #creates a Factor for computing the 10-day mean close price\n",
    "    mean_close_10 = SimpleMovingAverage(inputs=[USEquityPricing.close],\n",
    "                                        window_length=10)\n",
    "    return Pipeline(columns={'10_day_mean_close': mean_close_10})"
   ]
  },
  {
   "cell_type": "markdown",
   "metadata": {},
   "source": [
    "Let's run it and display some of the result"
   ]
  },
  {
   "cell_type": "code",
   "execution_count": 10,
   "metadata": {
    "collapsed": false
   },
   "outputs": [
    {
     "data": {
      "text/html": [
       "<div>\n",
       "<table border=\"1\" class=\"dataframe\">\n",
       "  <thead>\n",
       "    <tr style=\"text-align: right;\">\n",
       "      <th></th>\n",
       "      <th></th>\n",
       "      <th>10_day_mean_close</th>\n",
       "    </tr>\n",
       "  </thead>\n",
       "  <tbody>\n",
       "    <tr>\n",
       "      <th rowspan=\"5\" valign=\"top\">2015-05-05 00:00:00+00:00</th>\n",
       "      <th>Equity(2 [ARNC])</th>\n",
       "      <td>13.5595</td>\n",
       "    </tr>\n",
       "    <tr>\n",
       "      <th>Equity(21 [AAME])</th>\n",
       "      <td>3.9625</td>\n",
       "    </tr>\n",
       "    <tr>\n",
       "      <th>Equity(24 [AAPL])</th>\n",
       "      <td>129.0257</td>\n",
       "    </tr>\n",
       "    <tr>\n",
       "      <th>Equity(25 [ARNC_PR])</th>\n",
       "      <td>88.3625</td>\n",
       "    </tr>\n",
       "    <tr>\n",
       "      <th>Equity(31 [ABAX])</th>\n",
       "      <td>61.9209</td>\n",
       "    </tr>\n",
       "  </tbody>\n",
       "</table>\n",
       "</div>"
      ],
      "text/plain": [
       "                                                10_day_mean_close\n",
       "2015-05-05 00:00:00+00:00 Equity(2 [ARNC])                13.5595\n",
       "                          Equity(21 [AAME])                3.9625\n",
       "                          Equity(24 [AAPL])              129.0257\n",
       "                          Equity(25 [ARNC_PR])            88.3625\n",
       "                          Equity(31 [ABAX])               61.9209"
      ]
     },
     "execution_count": 10,
     "metadata": {},
     "output_type": "execute_result"
    }
   ],
   "source": [
    "result = run_pipeline(make_pipeline(), '2015-05-05', '2015-05-05')\n",
    "result.head()"
   ]
  },
  {
   "cell_type": "markdown",
   "metadata": {},
   "source": [
    "Note: factors can also be added to an existing `Pipeline` instance using the `Pipeline.add` method. Using `add` looks something like this:\n",
    "```python\n",
    ">>> my_pipe = Pipeline()\n",
    ">>> f1 = SomeFactor(...)\n",
    ">>> my_pipe.add(f1)\n",
    "```"
   ]
  },
  {
   "cell_type": "markdown",
   "metadata": {},
   "source": [
    "##Latest\n",
    "The most commonly used built in factor is `Latest`. The `Latest` factor gets the most recent value of a given data column. This factor is common enough that is is **instantiated differently** from other factors The best way to get the latest value of a data column is by getting its `.latest` attribute. As an example, let's update `make_pipeline` to create a latest close price factor and add it to our Pipeline:"
   ]
  },
  {
   "cell_type": "code",
   "execution_count": 11,
   "metadata": {
    "collapsed": true
   },
   "outputs": [],
   "source": [
    "def make_pipeline():\n",
    "    mean_close_10 = SimpleMovingAverage(inputs=[USEquityPricing.close],\n",
    "                                        window_length=10)\n",
    "    latest_close = USEquityPricing.close.latest\n",
    "    \n",
    "    return Pipeline(\n",
    "        columns={\n",
    "            '10_day_mean_close': mean_close_10,\n",
    "            'Latest_close_price': latest_close\n",
    "        }\n",
    "    )"
   ]
  },
  {
   "cell_type": "code",
   "execution_count": 12,
   "metadata": {
    "collapsed": false
   },
   "outputs": [
    {
     "data": {
      "text/html": [
       "<div>\n",
       "<table border=\"1\" class=\"dataframe\">\n",
       "  <thead>\n",
       "    <tr style=\"text-align: right;\">\n",
       "      <th></th>\n",
       "      <th></th>\n",
       "      <th>10_day_mean_close</th>\n",
       "      <th>Latest_close_price</th>\n",
       "    </tr>\n",
       "  </thead>\n",
       "  <tbody>\n",
       "    <tr>\n",
       "      <th rowspan=\"5\" valign=\"top\">2015-05-05 00:00:00+00:00</th>\n",
       "      <th>Equity(2 [ARNC])</th>\n",
       "      <td>13.5595</td>\n",
       "      <td>14.015</td>\n",
       "    </tr>\n",
       "    <tr>\n",
       "      <th>Equity(21 [AAME])</th>\n",
       "      <td>3.9625</td>\n",
       "      <td>NaN</td>\n",
       "    </tr>\n",
       "    <tr>\n",
       "      <th>Equity(24 [AAPL])</th>\n",
       "      <td>129.0257</td>\n",
       "      <td>128.699</td>\n",
       "    </tr>\n",
       "    <tr>\n",
       "      <th>Equity(25 [ARNC_PR])</th>\n",
       "      <td>88.3625</td>\n",
       "      <td>NaN</td>\n",
       "    </tr>\n",
       "    <tr>\n",
       "      <th>Equity(31 [ABAX])</th>\n",
       "      <td>61.9209</td>\n",
       "      <td>55.030</td>\n",
       "    </tr>\n",
       "  </tbody>\n",
       "</table>\n",
       "</div>"
      ],
      "text/plain": [
       "                                                10_day_mean_close  \\\n",
       "2015-05-05 00:00:00+00:00 Equity(2 [ARNC])                13.5595   \n",
       "                          Equity(21 [AAME])                3.9625   \n",
       "                          Equity(24 [AAPL])              129.0257   \n",
       "                          Equity(25 [ARNC_PR])            88.3625   \n",
       "                          Equity(31 [ABAX])               61.9209   \n",
       "\n",
       "                                                Latest_close_price  \n",
       "2015-05-05 00:00:00+00:00 Equity(2 [ARNC])                  14.015  \n",
       "                          Equity(21 [AAME])                    NaN  \n",
       "                          Equity(24 [AAPL])                128.699  \n",
       "                          Equity(25 [ARNC_PR])                 NaN  \n",
       "                          Equity(31 [ABAX])                 55.030  "
      ]
     },
     "execution_count": 12,
     "metadata": {},
     "output_type": "execute_result"
    }
   ],
   "source": [
    "result = run_pipeline(make_pipeline(), '2015-05-05', '2015-05-05')\n",
    "result.head()"
   ]
  },
  {
   "cell_type": "markdown",
   "metadata": {},
   "source": [
    "##Default Inputs\n",
    "Some factors have default inputs that should never be changed. for example the [VWAP built-in factor](https://www.quantopian.com/help#built-in-factors) is always calculated from `USEquityPricing.close` and `USEquityPricing.volume`. When a factor is always calculated from the same `BoundColumns`, we can call the constructor without specifying `inputs`. "
   ]
  },
  {
   "cell_type": "code",
   "execution_count": 13,
   "metadata": {
    "collapsed": true
   },
   "outputs": [],
   "source": [
    "from quantopian.pipeline.factors import VWAP\n",
    "vwap = VWAP(window_length=10)"
   ]
  },
  {
   "cell_type": "markdown",
   "metadata": {},
   "source": [
    "#Pipeline Tutorial Lesson 4\n",
    "##Combining Factors\n",
    "We can combine factors, both with other factors and with scalar values, via any builtin math operator. This makes it easy to write complex expressions that combine multiple Factors. For example, constructing a Factor that computes the average of two other Factors is simply:\n",
    "```python\n",
    ">>> f1 = SomeFactor(...)\n",
    ">>> f2 = SomeOtherFactor(...)\n",
    ">>> average = (f1 + f2) / 2.0\n",
    "```"
   ]
  },
  {
   "cell_type": "markdown",
   "metadata": {},
   "source": [
    "In this lesson, we will create a pipeline that creates a `percent_difference` factor by combining a 10-day average price factor and a 30-day one. Let's start out by making the two factors."
   ]
  },
  {
   "cell_type": "code",
   "execution_count": 14,
   "metadata": {
    "collapsed": true
   },
   "outputs": [],
   "source": [
    "mean_close_10 = SimpleMovingAverage(inputs=[USEquityPricing.close], window_length=10)\n",
    "mean_close_30 = SimpleMovingAverage(inputs=[USEquityPricing.close], window_length=30)"
   ]
  },
  {
   "cell_type": "markdown",
   "metadata": {},
   "source": [
    "Then let's create a percent difference factor by combining out `mean_close_30` factor with our `mean_close_10` factor."
   ]
  },
  {
   "cell_type": "code",
   "execution_count": 15,
   "metadata": {
    "collapsed": true
   },
   "outputs": [],
   "source": [
    "percent_difference = ((mean_close_10 - mean_close_30)\n",
    "                      / mean_close_30)"
   ]
  },
  {
   "cell_type": "markdown",
   "metadata": {},
   "source": [
    "In this example, `percent_difference` is still a `Factor` even though it's composed as a combination of more primitive factors. We can add `percent_difference` as a column in our pipeline. Let's define `make_pipeline` to create a pipeline with `percent_difference` as a column (and not the mean close factors):"
   ]
  },
  {
   "cell_type": "code",
   "execution_count": 16,
   "metadata": {
    "collapsed": true
   },
   "outputs": [],
   "source": [
    "def make_pipeline():\n",
    "    \n",
    "    mean_close_10 = SimpleMovingAverage(inputs=[USEquityPricing.close],\n",
    "                                        window_length=10)\n",
    "    mean_close_30 = SimpleMovingAverage(inputs=[USEquityPricing.close],\n",
    "                                        window_length=30)\n",
    "    percent_difference = ((mean_close_10 - mean_close_30)\\\n",
    "                          / mean_close_30)\n",
    "    return Pipeline(\n",
    "        columns={\n",
    "            'percent_difference': percent_difference\n",
    "        }\n",
    "    )\n"
   ]
  },
  {
   "cell_type": "markdown",
   "metadata": {},
   "source": [
    "Let's see what the new output looks like."
   ]
  },
  {
   "cell_type": "code",
   "execution_count": 17,
   "metadata": {
    "collapsed": false
   },
   "outputs": [
    {
     "data": {
      "text/html": [
       "<div>\n",
       "<table border=\"1\" class=\"dataframe\">\n",
       "  <thead>\n",
       "    <tr style=\"text-align: right;\">\n",
       "      <th></th>\n",
       "      <th></th>\n",
       "      <th>percent_difference</th>\n",
       "    </tr>\n",
       "  </thead>\n",
       "  <tbody>\n",
       "    <tr>\n",
       "      <th rowspan=\"5\" valign=\"top\">2015-05-05 00:00:00+00:00</th>\n",
       "      <th>Equity(2 [ARNC])</th>\n",
       "      <td>0.017975</td>\n",
       "    </tr>\n",
       "    <tr>\n",
       "      <th>Equity(21 [AAME])</th>\n",
       "      <td>-0.002325</td>\n",
       "    </tr>\n",
       "    <tr>\n",
       "      <th>Equity(24 [AAPL])</th>\n",
       "      <td>0.016905</td>\n",
       "    </tr>\n",
       "    <tr>\n",
       "      <th>Equity(25 [ARNC_PR])</th>\n",
       "      <td>0.021544</td>\n",
       "    </tr>\n",
       "    <tr>\n",
       "      <th>Equity(31 [ABAX])</th>\n",
       "      <td>-0.019639</td>\n",
       "    </tr>\n",
       "  </tbody>\n",
       "</table>\n",
       "</div>"
      ],
      "text/plain": [
       "                                                percent_difference\n",
       "2015-05-05 00:00:00+00:00 Equity(2 [ARNC])                0.017975\n",
       "                          Equity(21 [AAME])              -0.002325\n",
       "                          Equity(24 [AAPL])               0.016905\n",
       "                          Equity(25 [ARNC_PR])            0.021544\n",
       "                          Equity(31 [ABAX])              -0.019639"
      ]
     },
     "execution_count": 17,
     "metadata": {},
     "output_type": "execute_result"
    }
   ],
   "source": [
    "result = run_pipeline(make_pipeline(), '2015-05-05', '2015-05-05')\n",
    "result.head()"
   ]
  },
  {
   "cell_type": "markdown",
   "metadata": {},
   "source": [
    "#Pipeline Tutorial Lesson 5\n",
    "##Filters\n",
    "A filter is a function from an asset and a moment in time to a boolean:\n",
    "\n",
    "$$f(asset, timestamp)\\to boolean$$\n",
    "\n",
    "In Pipeline, [Filters](https://www.quantopian.com/help#quantopian_pipeline_filters_Filter) are used for narrowing down the set of securities included in a computation or in the final output of a pipeline. There are two common ways to creat a Filter: comparison operators and `Factor`/`Classifier` methods."
   ]
  },
  {
   "cell_type": "markdown",
   "metadata": {},
   "source": [
    "##Comparison Operators\n",
    "Comparson operators on `Factors` and `Classifiers` produce `Filters`. Since we haven't looked at `Classifiers` yet, let's stick to examples using `Factors`. The following example produces a filter that returns `True` whenever the latest close price is above $20."
   ]
  },
  {
   "cell_type": "code",
   "execution_count": 18,
   "metadata": {
    "collapsed": false
   },
   "outputs": [],
   "source": [
    "latest_close_price = USEquityPricing.close.latest\n",
    "close_price_filter = latest_close_price > 20"
   ]
  },
  {
   "cell_type": "markdown",
   "metadata": {},
   "source": [
    "And this example produces a filter that returns `True` whenever the 10-day mean is below the 30-day mean."
   ]
  },
  {
   "cell_type": "code",
   "execution_count": 19,
   "metadata": {
    "collapsed": true
   },
   "outputs": [],
   "source": [
    "mean_close_10 = SimpleMovingAverage(inputs=[USEquityPricing.close], window_length=10)\n",
    "mean_close_30 = SimpleMovingAverage(inputs=[USEquityPricing.close], window_length=30)\n",
    "mean_crossover_filter = mean_close_10 < mean_close_30"
   ]
  },
  {
   "cell_type": "markdown",
   "metadata": {},
   "source": [
    "Remember, a filter produces a `True` of `False` value for each security every day."
   ]
  },
  {
   "cell_type": "markdown",
   "metadata": {},
   "source": [
    "##Factor/Classifier Methods\n",
    "Various methods of the `Factor` and `Classifier` classes return `Filters`. Again, since we haven't yet looked at `Classifiers` let's stick to `Factor` methods for now (we'll look at `Classifier` methods later). the `Factor.top(n)` method producesa `Filter` that returns `True` for the top $n$ securities of a given factor each day. The following example produces a filter that returns `True` for exactly 200 securities every day, indicating that those securities were in the top 200 by last close price accross all known securities."
   ]
  },
  {
   "cell_type": "code",
   "execution_count": 20,
   "metadata": {
    "collapsed": true
   },
   "outputs": [],
   "source": [
    "latest_close_price = USEquityPricing.close.latest\n",
    "top_close_price_filter = latest_close_price.top(200)"
   ]
  },
  {
   "cell_type": "markdown",
   "metadata": {},
   "source": [
    "for a full list of `Factor` methods that return `Filters`, see [this link](https://www.quantopian.com/help#quantopian_pipeline_classifiers_Classifier)."
   ]
  },
  {
   "cell_type": "markdown",
   "metadata": {},
   "source": [
    "##Dollar Volume Filter\n",
    "Let's create a filter that returns `True` if a security's 30-day average dollar volume is above $10,000,000. To do this we'll first need to create an `AverageDollarVolume` filter to compute the 30-day average dollar volume.\n",
    "\n",
    "To import the the built-in `AverageDollarVolume` filter, we can add to the line that we used to import `SimpleMovingAverage`."
   ]
  },
  {
   "cell_type": "code",
   "execution_count": 21,
   "metadata": {
    "collapsed": true
   },
   "outputs": [],
   "source": [
    "from quantopian.pipeline.factors import AverageDollarVolume, SimpleMovingAverage"
   ]
  },
  {
   "cell_type": "markdown",
   "metadata": {},
   "source": [
    "And then we can instantiate the Factor."
   ]
  },
  {
   "cell_type": "code",
   "execution_count": 22,
   "metadata": {
    "collapsed": true
   },
   "outputs": [],
   "source": [
    "dollar_volume = AverageDollarVolume(window_length=30)"
   ]
  },
  {
   "cell_type": "markdown",
   "metadata": {},
   "source": [
    "By default, `AverageDollarVolum` uses `USEquityPricing.close` and `USEquityPricing.volume` as its inputs, so we don't specify them.\n",
    "\n",
    "Now that we have a dollar volume factor, we can create a filter with a boolean expression. the following line creates a filter returning `True` for securities with a `dollar_volume` greater than 10,000,000:"
   ]
  },
  {
   "cell_type": "code",
   "execution_count": 23,
   "metadata": {
    "collapsed": true
   },
   "outputs": [],
   "source": [
    "high_dollar_volume = (dollar_volume > 10000000)"
   ]
  },
  {
   "cell_type": "markdown",
   "metadata": {},
   "source": [
    "To see what this filter looks like, we can add it as a column to our pipeline."
   ]
  },
  {
   "cell_type": "code",
   "execution_count": 24,
   "metadata": {
    "collapsed": false
   },
   "outputs": [],
   "source": [
    "def make_pipeline():\n",
    "    mean_close_10 = SimpleMovingAverage(inputs=[USEquityPricing.close],\n",
    "                                        window_length=10)\n",
    "    mean_close_30 = SimpleMovingAverage(inputs=[USEquityPricing.close],\n",
    "                                    window_length=30)\n",
    "\n",
    "    percent_difference = ((mean_close_10 - mean_close_30)\\\n",
    "                          / mean_close_30)\n",
    "\n",
    "    dollar_volume = AverageDollarVolume(window_length=30)\n",
    "\n",
    "    high_dollar_volume = (dollar_volume > 10000000)\n",
    "\n",
    "    return Pipeline(\n",
    "        columns={\n",
    "            'percent_difference': percent_difference,\n",
    "            'high_dollar_volume': high_dollar_volume\n",
    "        }\n",
    "    )"
   ]
  },
  {
   "cell_type": "markdown",
   "metadata": {},
   "source": [
    "If we make and run our pipeline, we now have a column `high_dollar_volume` with a boolean value corresponding to the result of the expression for each security."
   ]
  },
  {
   "cell_type": "code",
   "execution_count": 25,
   "metadata": {
    "collapsed": false
   },
   "outputs": [
    {
     "data": {
      "text/html": [
       "<div>\n",
       "<table border=\"1\" class=\"dataframe\">\n",
       "  <thead>\n",
       "    <tr style=\"text-align: right;\">\n",
       "      <th></th>\n",
       "      <th></th>\n",
       "      <th>high_dollar_volume</th>\n",
       "      <th>percent_difference</th>\n",
       "    </tr>\n",
       "  </thead>\n",
       "  <tbody>\n",
       "    <tr>\n",
       "      <th rowspan=\"5\" valign=\"top\">2015-05-05 00:00:00+00:00</th>\n",
       "      <th>Equity(2 [ARNC])</th>\n",
       "      <td>True</td>\n",
       "      <td>0.017975</td>\n",
       "    </tr>\n",
       "    <tr>\n",
       "      <th>Equity(21 [AAME])</th>\n",
       "      <td>False</td>\n",
       "      <td>-0.002325</td>\n",
       "    </tr>\n",
       "    <tr>\n",
       "      <th>Equity(24 [AAPL])</th>\n",
       "      <td>True</td>\n",
       "      <td>0.016905</td>\n",
       "    </tr>\n",
       "    <tr>\n",
       "      <th>Equity(25 [ARNC_PR])</th>\n",
       "      <td>False</td>\n",
       "      <td>0.021544</td>\n",
       "    </tr>\n",
       "    <tr>\n",
       "      <th>Equity(31 [ABAX])</th>\n",
       "      <td>False</td>\n",
       "      <td>-0.019639</td>\n",
       "    </tr>\n",
       "  </tbody>\n",
       "</table>\n",
       "</div>"
      ],
      "text/plain": [
       "                                               high_dollar_volume  \\\n",
       "2015-05-05 00:00:00+00:00 Equity(2 [ARNC])                   True   \n",
       "                          Equity(21 [AAME])                 False   \n",
       "                          Equity(24 [AAPL])                  True   \n",
       "                          Equity(25 [ARNC_PR])              False   \n",
       "                          Equity(31 [ABAX])                 False   \n",
       "\n",
       "                                                percent_difference  \n",
       "2015-05-05 00:00:00+00:00 Equity(2 [ARNC])                0.017975  \n",
       "                          Equity(21 [AAME])              -0.002325  \n",
       "                          Equity(24 [AAPL])               0.016905  \n",
       "                          Equity(25 [ARNC_PR])            0.021544  \n",
       "                          Equity(31 [ABAX])              -0.019639  "
      ]
     },
     "execution_count": 25,
     "metadata": {},
     "output_type": "execute_result"
    }
   ],
   "source": [
    "result = run_pipeline(make_pipeline(), '2015-05-05', '2015-05-05')\n",
    "result.head()"
   ]
  },
  {
   "cell_type": "markdown",
   "metadata": {},
   "source": [
    "##Applying a Screen\n",
    "By default, a pipeline produces computed values each day for every asset in the Quantopian database. Very often however, we only care about a subset of securities that meet specific criteria (for example, we might only care about securities that have enough daily trading volume to fill our orders quickly). We can tell our Pipeline to ignore securities for which a filter produces `False` by passing that filter to our Pipeline via the `screen` keyword.\n",
    "\n",
    "To screen our pipeline output for securities with a 30-day average dollar volume greater than $10,000,000, we can simply pass our `high_dollar_volume` filter as the `screen` argument. This is what our `make_pipeline` function now looks like:\n"
   ]
  },
  {
   "cell_type": "code",
   "execution_count": 26,
   "metadata": {
    "collapsed": true
   },
   "outputs": [],
   "source": [
    "def make_pipeline():\n",
    "\n",
    "    SimpleMovingAverage(inputs=[USEquityPricing.close], window_length=10)\n",
    "    mean_close_30 = SimpleMovingAverage(inputs=[USEquityPricing.close], window_length=30)\n",
    "\n",
    "    percent_difference = (mean_close_10 - mean_close_30) / mean_close_30\n",
    "\n",
    "    dollar_volume = AverageDollarVolume(window_length=30)\n",
    "    high_dollar_volume = (dollar_volume > 10000000)\n",
    "\n",
    "    return Pipeline(\n",
    "        columns={\n",
    "          'percent_difference': percent_difference\n",
    "        },\n",
    "        screen=high_dollar_volume # here is the screen\n",
    "      )"
   ]
  },
  {
   "cell_type": "markdown",
   "metadata": {},
   "source": [
    "Running this will produce an output for only the securities that passed the `high_dollar_volume` on a given day. For example, running this pipeline on May 5th, 2015 results in an output for ~2,100 securities.\n"
   ]
  },
  {
   "cell_type": "code",
   "execution_count": 27,
   "metadata": {
    "collapsed": false
   },
   "outputs": [
    {
     "name": "stdout",
     "output_type": "stream",
     "text": [
      "Number of securities that passed the filter: 2106\n"
     ]
    }
   ],
   "source": [
    "result = run_pipeline(make_pipeline(), '2015-05-05', '2015-05-05')\n",
    "print 'Number of securities that passed the filter: %d' % len(result)"
   ]
  },
  {
   "cell_type": "markdown",
   "metadata": {},
   "source": [
    "##Inverting a Filter\n",
    "The `~` operator is used to inver a filter, swapping all `True` values with `Falses` and vice-versa. for example, we can write the following to filter for low dollar volume secutities:"
   ]
  },
  {
   "cell_type": "code",
   "execution_count": 28,
   "metadata": {
    "collapsed": true
   },
   "outputs": [],
   "source": [
    "low_dollar_volume = ~high_dollar_volume"
   ]
  },
  {
   "cell_type": "markdown",
   "metadata": {},
   "source": [
    "This will return `True` for all securities with an average dollar volme below or equal to $10,000,000 over the last 30 days.\n"
   ]
  },
  {
   "cell_type": "markdown",
   "metadata": {},
   "source": [
    "#Pipeline Tutorial Lesson 6\n",
    "##Combining Filters\n",
    "Like factors, filters can be combined. Combining filters is done using the `&` (and) and `|` (or) operators. For example, let's say we want to screen for securities that are in the top 10% of average dollar volume and have a latest close price of above $20. To start, let's make a high dollar volume filter using an `AverageDollarVolume` factor and `percentile_between`:"
   ]
  },
  {
   "cell_type": "code",
   "execution_count": 29,
   "metadata": {
    "collapsed": true
   },
   "outputs": [],
   "source": [
    "high_dollar_volume = dollar_volume.percentile_between(90,100)"
   ]
  },
  {
   "cell_type": "markdown",
   "metadata": {},
   "source": [
    "Note: `percentile_between` is a `Factor` method returning a Filter.\n",
    "\n",
    "Next, let's create a `latest_close` factor and define a filter for securities that close above $20:"
   ]
  },
  {
   "cell_type": "code",
   "execution_count": 30,
   "metadata": {
    "collapsed": true
   },
   "outputs": [],
   "source": [
    "latest_close = USEquityPricing.close.latest\n",
    "above_20 = latest_close > 20"
   ]
  },
  {
   "cell_type": "markdown",
   "metadata": {},
   "source": [
    "Now we can combine our `high_dollar_volume` filter with our `above_20` filter using the `&` operator:"
   ]
  },
  {
   "cell_type": "code",
   "execution_count": 31,
   "metadata": {
    "collapsed": true
   },
   "outputs": [],
   "source": [
    "is_tradeable = high_dollar_volume & above_20"
   ]
  },
  {
   "cell_type": "markdown",
   "metadata": {},
   "source": [
    "This filter will evaluate to `True` for securities where both `high_dollar_volume` and `above_20` are `True`. Otherwise, it will evaluate to `False`. A similar computation can be made with the `|` (or) operator.\n",
    "\n",
    "If we want to use this filter as a screen in our pipeline, we can set the `screen` to be `is_tradeable`."
   ]
  },
  {
   "cell_type": "code",
   "execution_count": 32,
   "metadata": {
    "collapsed": true
   },
   "outputs": [],
   "source": [
    "def make_pipeline():\n",
    "    mean_close_10 = SimpleMovingAverage(inputs=[USEquityPricing.close],\n",
    "                                        window_length=10)\n",
    "    mean_close_30 = SimpleMovingAverage(inputs=[USEquityPricing.close],\n",
    "                                        window_length=30)\n",
    "    percent_difference = ((mean_close_10 - mean_close_30)\\\n",
    "                          / mean_close_30)\n",
    "    \n",
    "    dollar_volume = AverageDollarVolume(window_length=30)\n",
    "    high_dollar_volume = dollar_volume.percentile_between(90, 100)\n",
    "    \n",
    "    latest_close = USEquityPricing.close.latest\n",
    "    above_20 = latest_close > 20\n",
    "    \n",
    "    is_tradeable = high_dollar_volume & above_20\n",
    "    \n",
    "    return Pipeline(\n",
    "        columns={\n",
    "            'percent_difference': percent_difference\n",
    "        },\n",
    "        screen=is_tradeable\n",
    "    )\n",
    "\n",
    "        \n"
   ]
  },
  {
   "cell_type": "markdown",
   "metadata": {},
   "source": [
    "Running this pipeline on May 5th, 2015 outputs around 700 securities."
   ]
  },
  {
   "cell_type": "code",
   "execution_count": 33,
   "metadata": {
    "collapsed": false
   },
   "outputs": [
    {
     "name": "stdout",
     "output_type": "stream",
     "text": [
      "Number of securities that passed the filter: 741\n"
     ]
    }
   ],
   "source": [
    "result = run_pipeline(make_pipeline(), '2015-05-05', '2015-05-05')\n",
    "print 'Number of securities that passed the filter: %d' % len(result)"
   ]
  },
  {
   "cell_type": "markdown",
   "metadata": {},
   "source": [
    "#Pipeline Tutorial Lesson 7\n",
    "##Masking\n",
    "\n",
    "Sometimes we want to ignore certain assets when computing pipeline expression. There are two common cases where ignoring is useful:\n",
    "\n",
    "1. We want to compute an expression that's computationally expensive, and we know we only care about results for certain assets. A common example of such an expensive expression is a `Factor` computing the coefficients of a regression (RollingLineaRegressionOfReturns).\n",
    "2. We want to compute an expression that performs comparisons between assets, but we only want those comparisons to be performed against a subset of all assets. For example, we might want to use the `top` method of `Factor` to compute the top 200 assets by earnings yield, ignoring assets that don't meet some liquidity restraint.\n",
    "\n",
    "To support these two use-cases, all `Factor` methods can accept a mask argument, which must be a `Filter` indicating which assets to consider when computing."
   ]
  },
  {
   "cell_type": "markdown",
   "metadata": {},
   "source": [
    "##Masking Factors\n",
    "\n",
    "Let's say we want our pipeline to output securities with a high or low percent difference but we also only want to consider securities with a dollar volume above $10,000,000. To do this, let's rearrange our `make_pipeline` function so that we first create the `high_dollar_volume` filter. We can then use this filter as a `mask` for moving average factors by passing `high_dollar_volumes` as the argument to `SimpleMovingAverage`."
   ]
  },
  {
   "cell_type": "code",
   "execution_count": 34,
   "metadata": {
    "collapsed": true
   },
   "outputs": [],
   "source": [
    "# Dollar volume facor\n",
    "dollar_volume = AverageDollarVolume(window_length=30)\n",
    "\n",
    "# High dollar volume filter\n",
    "high_dollar_volume = (dollar_volume > 10000000)\n",
    "\n",
    "# Average close price factors\n",
    "mean_close_10 = SimpleMovingAverage(inputs=[USEquityPricing.close],\n",
    "                                    window_length=10,\n",
    "                                    mask=high_dollar_volume)\n",
    "\n",
    "mean_close_30 = SimpleMovingAverage(inputs=[USEquityPricing.close],\n",
    "                                    window_length=30,\n",
    "                                    mask=high_dollar_volume)\n",
    "\n",
    "# Relative difference factor\n",
    "percent_difference = (mean_close_10 - mean_close_30) / mean_close_30\n",
    "\n"
   ]
  },
  {
   "cell_type": "markdown",
   "metadata": {},
   "source": [
    "Applying the mask to `SimpleMovingAverage` restricts the average close price factors to a computation over the ~2000 securities passing the `high_dollar_volume` filter, as opposed to ~8000 without a mask. When we combine `mean_close_10` and `mean_close_30` to form `percent_difference`, the computation is performed on the same ~2000 securities.\n"
   ]
  },
  {
   "cell_type": "markdown",
   "metadata": {},
   "source": [
    "##Masking Filters\n",
    "\n",
    "Masks can be also applied to methods that return filters like `top`, `bottom`, and `percentile_between`.\n",
    "\n",
    "Masks are most usefull when we want to apply a filter in the ealier steps of a combineed computation. For example, suppose we want to get the 50 securities with the highest open price that are also in the top 10% of dollar volume. Suppose that we then want the 90th-100th percentile of these securities by close price. we can do this with the following:"
   ]
  },
  {
   "cell_type": "code",
   "execution_count": 35,
   "metadata": {
    "collapsed": true
   },
   "outputs": [],
   "source": [
    "# Dollar volume factor\n",
    "dollar_volume = AverageDollarVolume(window_length=30)\n",
    "\n",
    "# High dollar volume filter\n",
    "high_dollar_volume = dollar_volume.percentile_between(90, 100)\n",
    "\n",
    "# Top open price filter (high dollar volume securities)\n",
    "top_open_price = USEquityPricing.open.latest.top(50, mask=high_dollar_volume)\n",
    "\n",
    "# Top percentile close price filter (high dollar volume, top 50 open price)\n",
    "high_close_price = USEquityPricing.close.latest.percentile_between(90, 100, mask=top_open_price)"
   ]
  },
  {
   "cell_type": "markdown",
   "metadata": {},
   "source": [
    "Let's put this into `make_pipeline` and output an empty pipeline screened with out `high_close_price` filter"
   ]
  },
  {
   "cell_type": "code",
   "execution_count": 36,
   "metadata": {
    "collapsed": true
   },
   "outputs": [],
   "source": [
    "def make_pipeline():\n",
    "    # Dollar volume factor\n",
    "    dollar_volume = AverageDollarVolume(window_length=30)\n",
    "\n",
    "    # High dollar volume filter\n",
    "    high_dollar_volume = dollar_volume.percentile_between(90,100)\n",
    "\n",
    "    # Top open securities filter (high dollar volume securities)\n",
    "    top_open_price = USEquityPricing.open.latest.top(50, mask=high_dollar_volume)\n",
    "\n",
    "    # Top percentile close price filter (high dollar volume, top 50 open price)\n",
    "    high_close_price = USEquityPricing.close.latest.percentile_between(90, 100, mask=top_open_price)\n",
    "\n",
    "    return Pipeline(\n",
    "        screen=high_close_price\n",
    "    )"
   ]
  },
  {
   "cell_type": "markdown",
   "metadata": {},
   "source": [
    "Running this pipeline outputs 5 securities on May 5th, 2015."
   ]
  },
  {
   "cell_type": "code",
   "execution_count": 37,
   "metadata": {
    "collapsed": false
   },
   "outputs": [
    {
     "name": "stdout",
     "output_type": "stream",
     "text": [
      "Number of securities that passed the filter: 5\n"
     ]
    }
   ],
   "source": [
    "result = run_pipeline(make_pipeline(), '2015-05-05', '2015-05-05')\n",
    "print 'Number of securities that passed the filter: %d' % len(result)"
   ]
  },
  {
   "cell_type": "markdown",
   "metadata": {},
   "source": [
    "Note that applying masks in layers as we did above can be thought of as an \"asset funnel\".\n",
    "\n",
    "In the next lesson, we will look at classifiers."
   ]
  },
  {
   "cell_type": "markdown",
   "metadata": {},
   "source": [
    "#Pipeline Tutorial Lesson 8\n",
    "##Classifiers\n",
    "\n",
    "A classifier is a function from an asset and a moment in time to a categorical output such as a string or integer label:\n",
    "\n",
    "$f(asset, timestamp)\\to category$\n",
    "\n",
    "An example of a classifier producing a strin output is the exchange ID of a security. To create this classifier, we'll have to import `morningstar.share_class_reference.exchange_id` and use the latest attribute to instantiate out classifier:"
   ]
  },
  {
   "cell_type": "code",
   "execution_count": 38,
   "metadata": {
    "collapsed": true
   },
   "outputs": [],
   "source": [
    "from quantopian.pipeline.data import morningstar\n",
    "\n",
    "# Since the underlying data of morningstar.share_class_reference.exchange_id\n",
    "# is of type string, .latest returns a Classifier\n",
    "exchange = morningstar.share_class_reference.exchange_id.latest"
   ]
  },
  {
   "cell_type": "markdown",
   "metadata": {},
   "source": [
    "Previously, we saw that the `latest` attribute produced an instance of a `Factor`. In this case, since the underlying data is of type `string`, `latest` produces a `Classifier`. \n",
    "\n",
    "Similarly, a computation producing the latest Morningstar sector code of a security is a `Classifier`. In this case, the underlying type is an `int`, but the integer doesn't represent a numerical value (it's a category) so it produces a classifier. To get the latest sector code, we can use the built-in `Sector` classifier."
   ]
  },
  {
   "cell_type": "code",
   "execution_count": 39,
   "metadata": {
    "collapsed": true
   },
   "outputs": [],
   "source": [
    "from quantopian.pipeline.classifiers.morningstar import Sector\n",
    "morningstar_sector = Sector()"
   ]
  },
  {
   "cell_type": "markdown",
   "metadata": {},
   "source": [
    "Using `Sector` is equivalent to `morningstar.asset_classification.morningstar_sector_code.latest`.\n",
    "\n",
    "##Building Filters from Classifiers\n",
    "\n",
    "Classifiers can aslo be used to produce filters with methods like `isnull`, `eq`, and `startswith`. The full list of `Classifier` methods producing `Filters` can be found [here](https://www.quantopian.com/help#quantopian_pipeline_classifiers_Classifier).\n",
    "\n",
    "As an example, if we wanted a filter to select securities trading on the New York Stock Exchange, we can use the `eq` method of our `exchange` classifier."
   ]
  },
  {
   "cell_type": "code",
   "execution_count": 40,
   "metadata": {
    "collapsed": true
   },
   "outputs": [],
   "source": [
    "nyse_filter = exchange.eq('NYS')"
   ]
  },
  {
   "cell_type": "markdown",
   "metadata": {},
   "source": [
    "This filter will return `True` for securities having `NYS` as their most recent `exchange_id`.\n",
    "\n",
    "##Quantiles\n",
    "\n",
    "Classifiers can also be produced from various `Factor` methods. The most general of these is the `quantiles` method, which accepts a bin counts as an argument. The `quantiles` classifier assigns a label from 0 to (bins - 1) to every non-NaN data point in the factor output. `NaN`s are labeled with -1. Aliases are available for [quartiles](https://www.quantopian.com/help/#quantopian_pipeline_factors_Factor_quartiles) (`quantiles(4)`), [quintiles](https://www.quantopian.com/help/#quantopian_pipeline_factors_Factor_quintiles) (`quantiles(5)`), and [deciles](https://www.quantopian.com/help/#quantopian_pipeline_factors_Factor_deciles) (`quantiles(10)`). As an example, this is what a filter for the top decile of a factor might look like:"
   ]
  },
  {
   "cell_type": "code",
   "execution_count": 41,
   "metadata": {
    "collapsed": true
   },
   "outputs": [],
   "source": [
    "dollar_volume_decile = AverageDollarVolume(window_length=10).deciles()\n",
    "top_decile = (dollar_volume_decile.eq(9))"
   ]
  },
  {
   "cell_type": "markdown",
   "metadata": {},
   "source": [
    "Let's put each of our classifiers into a pipeline and run ith to see what they look like."
   ]
  },
  {
   "cell_type": "code",
   "execution_count": 42,
   "metadata": {
    "collapsed": true
   },
   "outputs": [],
   "source": [
    "def make_pipeline():\n",
    "    exchange = morningstar.share_class_reference.exchange_id.latest\n",
    "    nyse_filter = exchange.eq('NYS')\n",
    "    \n",
    "    morningstar_sector = Sector()\n",
    "    \n",
    "    dollar_volume_decile = AverageDollarVolume(window_length=10).deciles()\n",
    "    top_decile = (dollar_volume_decile.eq(9))\n",
    "    \n",
    "    return Pipeline(\n",
    "        columns={\n",
    "            'exchange': exchange,\n",
    "            'sector_code': morningstar_sector,\n",
    "            'dollar_volume_decile': dollar_volume_decile\n",
    "        },\n",
    "        screen=(nyse_filter & top_decile)\n",
    "    )\n",
    "    "
   ]
  },
  {
   "cell_type": "code",
   "execution_count": 43,
   "metadata": {
    "collapsed": false
   },
   "outputs": [
    {
     "name": "stdout",
     "output_type": "stream",
     "text": [
      "Number of securities that passed the filter: 510\n"
     ]
    },
    {
     "data": {
      "text/html": [
       "<div>\n",
       "<table border=\"1\" class=\"dataframe\">\n",
       "  <thead>\n",
       "    <tr style=\"text-align: right;\">\n",
       "      <th></th>\n",
       "      <th></th>\n",
       "      <th>dollar_volume_decile</th>\n",
       "      <th>exchange</th>\n",
       "      <th>sector_code</th>\n",
       "    </tr>\n",
       "  </thead>\n",
       "  <tbody>\n",
       "    <tr>\n",
       "      <th rowspan=\"5\" valign=\"top\">2015-05-05 00:00:00+00:00</th>\n",
       "      <th>Equity(2 [ARNC])</th>\n",
       "      <td>9</td>\n",
       "      <td>NYS</td>\n",
       "      <td>101</td>\n",
       "    </tr>\n",
       "    <tr>\n",
       "      <th>Equity(62 [ABT])</th>\n",
       "      <td>9</td>\n",
       "      <td>NYS</td>\n",
       "      <td>206</td>\n",
       "    </tr>\n",
       "    <tr>\n",
       "      <th>Equity(64 [ABX])</th>\n",
       "      <td>9</td>\n",
       "      <td>NYS</td>\n",
       "      <td>101</td>\n",
       "    </tr>\n",
       "    <tr>\n",
       "      <th>Equity(76 [TAP])</th>\n",
       "      <td>9</td>\n",
       "      <td>NYS</td>\n",
       "      <td>205</td>\n",
       "    </tr>\n",
       "    <tr>\n",
       "      <th>Equity(128 [ADM])</th>\n",
       "      <td>9</td>\n",
       "      <td>NYS</td>\n",
       "      <td>205</td>\n",
       "    </tr>\n",
       "  </tbody>\n",
       "</table>\n",
       "</div>"
      ],
      "text/plain": [
       "                                             dollar_volume_decile exchange  \\\n",
       "2015-05-05 00:00:00+00:00 Equity(2 [ARNC])                      9      NYS   \n",
       "                          Equity(62 [ABT])                      9      NYS   \n",
       "                          Equity(64 [ABX])                      9      NYS   \n",
       "                          Equity(76 [TAP])                      9      NYS   \n",
       "                          Equity(128 [ADM])                     9      NYS   \n",
       "\n",
       "                                             sector_code  \n",
       "2015-05-05 00:00:00+00:00 Equity(2 [ARNC])           101  \n",
       "                          Equity(62 [ABT])           206  \n",
       "                          Equity(64 [ABX])           101  \n",
       "                          Equity(76 [TAP])           205  \n",
       "                          Equity(128 [ADM])          205  "
      ]
     },
     "execution_count": 43,
     "metadata": {},
     "output_type": "execute_result"
    }
   ],
   "source": [
    "result = run_pipeline(make_pipeline(), '2015-05-05', '2015-05-05')\n",
    "print 'Number of securities that passed the filter: %d' % len(result)\n",
    "result.head()"
   ]
  },
  {
   "cell_type": "markdown",
   "metadata": {},
   "source": [
    "Classifiers are also useful for describing gourping keys for complex transormations on Factor outputs. Grouping operations such as [demean](https://www.quantopian.com/help#quantopian_pipeline_factors_Factor_demean) and [groupby](https://www.quantopian.com/help#quantopian_pipeline_factors_Factor_groupby)\n",
    " are out of the scope of this tutorial. a future tutorial with cover more advanced features of classifiers. \n",
    " \n",
    "In the next lesson, we'll look at the different datasets that we can use in pipline."
   ]
  },
  {
   "cell_type": "markdown",
   "metadata": {},
   "source": [
    "#Pipeline Tutorial Lessson 9\n",
    "##Datasets and BoundColumns\n",
    "\n",
    "When building a pipeline, we need a way to identify the inputs to our computations. The input to a pipeline is specified using `DataSets` and `BoundColumns`.\n",
    "\n",
    "`DataSets` are simply collections of objects that tell the Pipeline API where and how to find to inputs to computations. An example of a `DataSet` that we have already seen is `USEquityPricing`.\n",
    "\n",
    "A `BoundColumn` is a column of data that is concretely bound to a `DataSet`. Instances of `BoundColumns` are dynamically created upon access to attributes of `DataSets`.  Inputs to pipline computations must be of type `BoundColumn`. A example of a `BoundColumn` that we have already seen is `USEquityPricing.close`.\n",
    "\n",
    "It is important to understand that `DataSets` and `BoundColumns` do not hold actual data. Remember that when computations are created and added to a pipeline, they don't actually perform the computation until the pipeline is run. `DataSets` and `BoundColumns` can be though of in a similar way; they are simply used to identify the inputs of a computation. The data is populated when the pipeline is run.\n",
    "\n",
    "##dtypes\n",
    "\n",
    "When defining pipeline computations, we need to know the types of our inputs in order to know which operations and functions we can use. The `dtype` of a `BoundColumn` tells a computation what the type of the data will be when the pipeline is run. For example, `USEquityPricing` has a `float` `dtype` so a factor may perform arithmetic operations on `USEquityPricing.close` (e.g. compute the 5-day mean). The importance of this will become more clear in the next lesson.\n",
    "\n",
    "The `dtype` of a `BoundColumn` can also determine the type of a computation. In the case of the  `latest` computation, the `dtype` determines whether the computation is a factor (`float`), a filter (`bool`), or a classifier (`string`,`int`).\n",
    "\n",
    "##Pricing Data\n",
    "\n",
    "US equity pricing data is stored in the `USEquityPricing` dataset. `USEquityPricing` provides five columns\n",
    "-`USEquityPricing.close`\n",
    "-`USEquityPricing.high`\n",
    "-`USEquityPricing.low`\n",
    "-`USEquityPricing.close`\n",
    "-`USEquityPricing.volume`\n",
    "Each of these columns has a `float` `dtype`.\n",
    "\n",
    "\n",
    "##Fundamental Data\n",
    "\n",
    "[Morningstar](http://corporate1.morningstar.com/us/home/) fundamental datasets are namespaced under the `quiantopian.pipeline.data.morningstar` module.\n",
    "\n",
    "The following datasets are currently available from the `morningstar` module:\n",
    "- [asset_classification](https://www.quantopian.com/help/fundamentals#asset-classification)\n",
    "- [balance_sheet](https://www.quantopian.com/help/fundamentals#balance-sheet)\n",
    "- [cash_flow_statement](https://www.quantopian.com/help/fundamentals#cash-flow-statement)\n",
    "- [company_reference](https://www.quantopian.com/help/fundamentals#company-reference)\n",
    "- [earnings_ratios](https://www.quantopian.com/help/fundamentals#earnings-ratios)\n",
    "- [earnigns_report](https://www.quantopian.com/help/fundamentals#earnings-report)\n",
    "- [financial_statement_filing](https://www.quantopian.com/help/fundamentals#financial-statement-filing)\n",
    "- [general_profile](https://www.quantopian.com/help/fundamentals#general-profile)\n",
    "- [income_statement](https://www.quantopian.com/help/fundamentals#income-statement)\n",
    "- [operation_ratios](https://www.quantopian.com/help/fundamentals#operation-ratios)\n",
    "- [share_class_reference](https://www.quantopian.com/help/fundamentals#share-class-reference)\n",
    "- [valuation](https://www.quantopian.com/help/fundamentals#valuation)\n",
    "- [valuation_ratios](https://www.quantopian.com/help/fundamentals#valuation-ratios)\n",
    "\n",
    "Each of these datasets provides columns that can be passed as inputs to pipeline computations. The `dtype` of the columns vary. For example, `morningstar.valuation.market_cap` is a column representing the most recently reported market cap for each asset on each date. There are over 900 total columns available in the morningstar datasets. See the [Quantopian Fundamentals Reference](https://www.quantopian.com/help/fundamentals) for a full description of all such attributes.\n",
    "\n",
    "##Partner Data\n",
    "\n",
    "Many datasets besides `USEquityPricing` and Morningstar fundamentals are available on Quantopian. These include corporate fundamental data, news sentiment, macroeconomic indicators, and more. All datasets are namespaced by provider under `quantopian.pipeline.data`.\n",
    "\n",
    "* `quantopian.pipeline.data.accern` ([accern](https://www.quantopian.com/data/accern))\n",
    "* `quantopian.pipeline.data.estimize` ([Estimize](https://www.quantopian.com/data/estimize))\n",
    "* `quantopian.pipeline.data.eventVestor` ([EventVestor](https://www.quantopian.com/data/eventvestor))\n",
    "* `quantopian.pipeline.data.psychsignal` ([PsychSignal](https://www.quantopian.com/data/psychsignal))\n",
    "* `quantopian.pipeline.data.quandl` ([Quandl](https://www.quantopian.com/data/quandl))\n",
    "* `quantopian.pipeline.data.sentdex` ([Sentdex](https://www.quantopian.com/data/sentdex))\n",
    "\n",
    "Similar to `USEquityPricing`, each of these datasets have columns (`BoundColumns`) that can be used in pipeline computations. The columns, along with example algorithms and notebooks can be found on the [Data page](https://www.quantopian.com/data). The `dtypes` of the columns vary.\n",
    "\n",
    "`BoundColumns` are most commonly used in CustomFactors which we will explore in the next lesson."
   ]
  },
  {
   "cell_type": "markdown",
   "metadata": {},
   "source": [
    "#Pipeline Tutorial Lesson 10\n",
    "##Custom Factors\n",
    "\n",
    "When we first looked at factors, we explored the set of built-in factors. Frequently, a desired computation isn't included as a built-in factor. One of the most powerful features of the Pipeline API is that it allows us to define our own custom factor.\n",
    "\n",
    "Conceptually, a custom factor is identical to a built-in factor. It accepts `inputs`, `window_length`, and `mask` as constructor arguments, and returns a `Factor` object each day.\n",
    "\n",
    "Let's take an example of a computation that doesn't exist as a built-in: standard deviation. To create a factor that computes the [standard deviation](https://en.wikipedia.org/wiki/Standard_deviation) over a trailing window, we can subclass `quantopian.pipeline.CustomFactor` and implement a compute method whose signature is:\n",
    "```python\n",
    "def compute(self, today, asset_ids, out, *inputs)\n",
    "    ...\n",
    "```"
   ]
  },
  {
   "cell_type": "markdown",
   "metadata": {},
   "source": [
    "- `*inputs` are M x N [numpy arrays](http://docs.scipy.org/doc/numpy-1.10.1/reference/arrays.ndarray.html), where M is the `window_length` and N is the number of securities (usually around ~8000 unless a mask is provided). `*inputs` are trailing data windows. Note that there will be one M x N array for each `BoundColumn` provided in the factor's `inputs` list. The data type of each array will be the `dtype` of the corresponding `BoundColumn`.\n",
    "- `out` is an empty array of length N. `out` will be the output of our custom factor each day. The job of compute is to write output values into `out`.\n",
    "- `asset_ids` will be an integer [array](http://docs.scipy.org/doc/numpy-1.10.0/reference/generated/numpy.array.html) of length N containing security ids corresponding to the columns in our `*inputs` arrays.\n",
    "- `today` will be a [pandas Timestamp](http://pandas.pydata.org/pandas-docs/stable/timeseries.html#converting-to-timestamps) representing the day for which `compute` is being called.\n",
    "\n",
    "Of these, `*inputs` and `out` are most commonly used.\n",
    "\n",
    "An instance of `CustomFactor` that's been added to a pipeline will have its compute method called every day. For example, let's define a custon factor that computes the standard deviation of the close price over te last 5 days. To start, let's add `CustomFactor` and `numpy` to our import statements."
   ]
  },
  {
   "cell_type": "code",
   "execution_count": 44,
   "metadata": {
    "collapsed": true
   },
   "outputs": [],
   "source": [
    "from quantopian.pipeline import CustomFactor, Pipeline\n",
    "import numpy"
   ]
  },
  {
   "cell_type": "markdown",
   "metadata": {},
   "source": [
    "Next, let's define our custon factor to calculate the standard deviation over a trailing window using [numpy.nanstd](http://docs.scipy.org/doc/numpy-dev/reference/generated/numpy.nanstd.html):"
   ]
  },
  {
   "cell_type": "code",
   "execution_count": 45,
   "metadata": {
    "collapsed": true
   },
   "outputs": [],
   "source": [
    "class StdDev(CustomFactor):\n",
    "    def compute(self, today, asset_ids, out, values):\n",
    "        # Calculates the column-wise standard deviation, ignoring NaNs\n",
    "        out[:] = numpy.nanstd(values, axis=0)"
   ]
  },
  {
   "cell_type": "markdown",
   "metadata": {},
   "source": [
    "Finally, let's instantiate our factor in `make_pipeline()`:"
   ]
  },
  {
   "cell_type": "code",
   "execution_count": 46,
   "metadata": {
    "collapsed": true
   },
   "outputs": [],
   "source": [
    "def make_pipeline():\n",
    "    std_dev = StdDev(inputs=[USEquityPricing.close], window_length=5)\n",
    "    \n",
    "    return Pipeline(\n",
    "        columns={\n",
    "            'std_dev': std_dev\n",
    "        }\n",
    "    )"
   ]
  },
  {
   "cell_type": "markdown",
   "metadata": {},
   "source": [
    "When this pipeline is run, `StdDev.compute()` will be called everyday with data as follows:\n",
    "\n",
    "- `values`: An M x N [numpy](http://docs.scipy.org/doc/numpy-1.10.1/reference/arrays.ndarray.html) array, where M is 5 (`window_length`), and N is ~8000 (the number of securities in our database on the day in question).\n",
    "- `out`: An empty array of length N(~8000). In this example, the job of `compute` is to populate `out` with an array of 5-day close price standard deviations."
   ]
  },
  {
   "cell_type": "code",
   "execution_count": 47,
   "metadata": {
    "collapsed": false
   },
   "outputs": [
    {
     "name": "stderr",
     "output_type": "stream",
     "text": [
      "/usr/local/lib/python2.7/dist-packages/numpy/lib/nanfunctions.py:1147: RuntimeWarning: Degrees of freedom <= 0 for slice.\n",
      "  warnings.warn(\"Degrees of freedom <= 0 for slice.\", RuntimeWarning)\n"
     ]
    }
   ],
   "source": [
    "result = run_pipeline(make_pipeline(), '2015-05-05', '2015-05-05')"
   ]
  },
  {
   "cell_type": "code",
   "execution_count": 48,
   "metadata": {
    "collapsed": false
   },
   "outputs": [
    {
     "data": {
      "text/html": [
       "<div>\n",
       "<table border=\"1\" class=\"dataframe\">\n",
       "  <thead>\n",
       "    <tr style=\"text-align: right;\">\n",
       "      <th></th>\n",
       "      <th></th>\n",
       "      <th>std_dev</th>\n",
       "    </tr>\n",
       "  </thead>\n",
       "  <tbody>\n",
       "    <tr>\n",
       "      <th rowspan=\"5\" valign=\"top\">2015-05-05 00:00:00+00:00</th>\n",
       "      <th>Equity(2 [ARNC])</th>\n",
       "      <td>0.293428</td>\n",
       "    </tr>\n",
       "    <tr>\n",
       "      <th>Equity(21 [AAME])</th>\n",
       "      <td>0.004714</td>\n",
       "    </tr>\n",
       "    <tr>\n",
       "      <th>Equity(24 [AAPL])</th>\n",
       "      <td>1.737677</td>\n",
       "    </tr>\n",
       "    <tr>\n",
       "      <th>Equity(25 [ARNC_PR])</th>\n",
       "      <td>0.275000</td>\n",
       "    </tr>\n",
       "    <tr>\n",
       "      <th>Equity(31 [ABAX])</th>\n",
       "      <td>4.402971</td>\n",
       "    </tr>\n",
       "  </tbody>\n",
       "</table>\n",
       "</div>"
      ],
      "text/plain": [
       "                                                 std_dev\n",
       "2015-05-05 00:00:00+00:00 Equity(2 [ARNC])      0.293428\n",
       "                          Equity(21 [AAME])     0.004714\n",
       "                          Equity(24 [AAPL])     1.737677\n",
       "                          Equity(25 [ARNC_PR])  0.275000\n",
       "                          Equity(31 [ABAX])     4.402971"
      ]
     },
     "execution_count": 48,
     "metadata": {},
     "output_type": "execute_result"
    }
   ],
   "source": [
    "result.head()"
   ]
  },
  {
   "cell_type": "markdown",
   "metadata": {},
   "source": [
    "##Default Inputs\n",
    "\n",
    "When writing a custom factor, we can set default `inputs` and `window_length` in our `CustomFactor` subclass. For example, let's define the `TenDayMeanDifference` custom factor to compute the mean difference between two data columns over a trailing window using [numpy.nanmean](http://docs.scipy.org/doc/numpy-dev/reference/generated/numpy.nanmean.html). Let's set the default inputs to `[USEquityPricing.close, USEquityPricing.open]` and the default `window_length` to 10:"
   ]
  },
  {
   "cell_type": "code",
   "execution_count": 49,
   "metadata": {
    "collapsed": true
   },
   "outputs": [],
   "source": [
    "class TenDayMeanDifference(CustomFactor):\n",
    "    # Default inputs.\n",
    "    inputs = [USEquityPricing.close, USEquityPricing.open]\n",
    "    window_length = 10\n",
    "    \n",
    "    def compute(self, today, asset_ids, out, close, open):\n",
    "        # Calculates the column-wise mean difference, ignoring NaNs\n",
    "        out[:] = numpy.nanmean(close - open, axis=0)"
   ]
  },
  {
   "cell_type": "markdown",
   "metadata": {},
   "source": [
    "Remember in this case that `close` and `open` are each 10 x ~8000 2D [numpy arrays](http://docs.scipy.org/doc/numpy-1.10.1/reference/arrays.ndarray.html).\n",
    "\n",
    "Now, if we call `TenDayMeanDifference` without providing any arguments, it will use the defaults."
   ]
  },
  {
   "cell_type": "code",
   "execution_count": 50,
   "metadata": {
    "collapsed": true
   },
   "outputs": [],
   "source": [
    "# Computes the 10-day mean difference between the daily open and close price\n",
    "close_open_diff = TenDayMeanDifference()"
   ]
  },
  {
   "cell_type": "markdown",
   "metadata": {},
   "source": [
    "the defaults can be manually overridden by specifying arguments in the constructor call."
   ]
  },
  {
   "cell_type": "code",
   "execution_count": 51,
   "metadata": {
    "collapsed": true
   },
   "outputs": [],
   "source": [
    "# Computes the 10-day mean difference between the daily high and low prices.\n",
    "high_low_diff = TenDayMeanDifference(inputs=[USEquityPricing.high, USEquityPricing.low])\n"
   ]
  },
  {
   "cell_type": "markdown",
   "metadata": {},
   "source": [
    "##Further Example\n",
    "\n",
    "Let's take another example where we build a [momentum](http://www.investopedia.com/terms/m/momentum.asp) factor and use it to create a filter. We will then use that filter as a `screen` on our pipeline.\n",
    "\n",
    "Let's start by defining a `Momentum` factor to be the division of the most recent close price by the close price from `n` days ago where `n` is the `window_length`."
   ]
  },
  {
   "cell_type": "code",
   "execution_count": 52,
   "metadata": {
    "collapsed": true
   },
   "outputs": [],
   "source": [
    "class Momentum(CustomFactor):\n",
    "    # Default inputs\n",
    "    inputs = [USEquityPricing.close]\n",
    "    \n",
    "    #Compute momentum\n",
    "    def compute(self, today, assets, out, close):\n",
    "        out[:] = close[-1] / close[0]"
   ]
  },
  {
   "cell_type": "markdown",
   "metadata": {},
   "source": [
    "Now, let's instantiate our `Momentum` factor (twice) to create a 10-day momentum factor and a 20-day momentum factor. Let's also create a `positive_momentum` filter returning `True` for securities with both a positive 10-day momentum and a positive 20-day momentum."
   ]
  },
  {
   "cell_type": "code",
   "execution_count": 53,
   "metadata": {
    "collapsed": true
   },
   "outputs": [],
   "source": [
    "ten_day_momentum = Momentum(window_length=10)\n",
    "twenty_day_momentum = Momentum(window_length=20)\n",
    "\n",
    "positive_momentum = ((ten_day_momentum > 1) & (twenty_day_momentum > 1))"
   ]
  },
  {
   "cell_type": "markdown",
   "metadata": {},
   "source": [
    "Next, let's add our momentum factors and our `positive_momentum` filter to `make_pipeline`. Let's also set `positive_momentum` to be the screen of our pipeline."
   ]
  },
  {
   "cell_type": "code",
   "execution_count": 56,
   "metadata": {
    "collapsed": true
   },
   "outputs": [],
   "source": [
    "def make_pipeline():\n",
    "    ten_day_momentum = Momentum(window_length=10)\n",
    "    twenty_day_momentum = Momentum(window_length=20)\n",
    "\n",
    "    positive_momentum = ((ten_day_momentum > 1) & (twenty_day_momentum > 1))\n",
    "    \n",
    "    std_dev = StdDev(inputs=[USEquityPricing.close],\n",
    "                     window_length=5)\n",
    "    \n",
    "    return Pipeline(\n",
    "        columns={\n",
    "            'std_dev': std_dev,\n",
    "            'ten_day_momentum': ten_day_momentum,\n",
    "            'twenty_day_momentum': twenty_day_momentum\n",
    "        }, screen=positive_momentum\n",
    "    )"
   ]
  },
  {
   "cell_type": "markdown",
   "metadata": {},
   "source": [
    "Running this pipeline outputs the standard deviation and each of our momentum computations for securities with positive 10-day and 20-day momentum."
   ]
  },
  {
   "cell_type": "code",
   "execution_count": 57,
   "metadata": {
    "collapsed": false
   },
   "outputs": [
    {
     "data": {
      "text/html": [
       "<div>\n",
       "<table border=\"1\" class=\"dataframe\">\n",
       "  <thead>\n",
       "    <tr style=\"text-align: right;\">\n",
       "      <th></th>\n",
       "      <th></th>\n",
       "      <th>std_dev</th>\n",
       "      <th>ten_day_momentum</th>\n",
       "      <th>twenty_day_momentum</th>\n",
       "    </tr>\n",
       "  </thead>\n",
       "  <tbody>\n",
       "    <tr>\n",
       "      <th rowspan=\"5\" valign=\"top\">2015-05-05 00:00:00+00:00</th>\n",
       "      <th>Equity(2 [ARNC])</th>\n",
       "      <td>0.293428</td>\n",
       "      <td>1.036612</td>\n",
       "      <td>1.042783</td>\n",
       "    </tr>\n",
       "    <tr>\n",
       "      <th>Equity(24 [AAPL])</th>\n",
       "      <td>1.737677</td>\n",
       "      <td>1.014256</td>\n",
       "      <td>1.021380</td>\n",
       "    </tr>\n",
       "    <tr>\n",
       "      <th>Equity(39 [DDC])</th>\n",
       "      <td>0.138939</td>\n",
       "      <td>1.062261</td>\n",
       "      <td>1.167319</td>\n",
       "    </tr>\n",
       "    <tr>\n",
       "      <th>Equity(52 [ABM])</th>\n",
       "      <td>0.093680</td>\n",
       "      <td>1.009212</td>\n",
       "      <td>1.015075</td>\n",
       "    </tr>\n",
       "    <tr>\n",
       "      <th>Equity(64 [ABX])</th>\n",
       "      <td>0.178034</td>\n",
       "      <td>1.025721</td>\n",
       "      <td>1.065587</td>\n",
       "    </tr>\n",
       "  </tbody>\n",
       "</table>\n",
       "</div>"
      ],
      "text/plain": [
       "                                              std_dev  ten_day_momentum  \\\n",
       "2015-05-05 00:00:00+00:00 Equity(2 [ARNC])   0.293428          1.036612   \n",
       "                          Equity(24 [AAPL])  1.737677          1.014256   \n",
       "                          Equity(39 [DDC])   0.138939          1.062261   \n",
       "                          Equity(52 [ABM])   0.093680          1.009212   \n",
       "                          Equity(64 [ABX])   0.178034          1.025721   \n",
       "\n",
       "                                             twenty_day_momentum  \n",
       "2015-05-05 00:00:00+00:00 Equity(2 [ARNC])              1.042783  \n",
       "                          Equity(24 [AAPL])             1.021380  \n",
       "                          Equity(39 [DDC])              1.167319  \n",
       "                          Equity(52 [ABM])              1.015075  \n",
       "                          Equity(64 [ABX])              1.065587  "
      ]
     },
     "execution_count": 57,
     "metadata": {},
     "output_type": "execute_result"
    }
   ],
   "source": [
    "result = run_pipeline(make_pipeline(), '2015-05-05', '2015-05-05')\n",
    "result.head()"
   ]
  },
  {
   "cell_type": "markdown",
   "metadata": {},
   "source": [
    "Custom factors allow us to define custom computations in a pipeline. They are frequently the best way to perform computations on [partner datasets](https://www.quantopian.com/data) or on multiple data columns. The full documentation for CustomFactor is available [here](https://www.quantopian.com/help#custom-factors).\n",
    "\n",
    "In the next lesson, we'll use everythin we've learned so far to create a pipeline for an algorithm."
   ]
  },
  {
   "cell_type": "markdown",
   "metadata": {},
   "source": [
    "#Pipeline Tutorial Lesson 11\n",
    "##Putting It All Together\n",
    "\n",
    "Now that we've covered the basic components of the Pipeline API, let's construct a pipeline that we might want to use in an algorithm.\n",
    "\n",
    "To start, let's first create a filter to narrow down the types of securities coming out of our pipeline. In this example, we will create a filter to select for securities that meet the following criteria:\n",
    "\n",
    "- Is a primary share\n",
    "- Is listed as a common stock\n",
    "- Is not a [depositary receipt](http://www.investopedia.com/terms/d/depositaryreceipt.asp) (ADR/GDR)\n",
    "- Is not trading [over-the-counter](http://www.investopedia.com/terms/o/otc.asp) (OTC)\n",
    "- Is not [when-issued](http://www.investopedia.com/terms/w/wi.asp) (WI)\n",
    "- Doesn't have a name indicating it's [limited partnership](http://www.investopedia.com/terms/l/limitedpartnership.asp) (LP)\n",
    "- Doesn't have company reference indicating it's a LP\n",
    "- Is not an [ETF](http://www.investopedia.com/terms/e/etf.asp) (has Morningstar fundamental data)\n",
    "\n",
    "###Why These Criteria?\n",
    "\n",
    "Selecting for primary shares and common stock helps us select only a single security for each company. In general, primary shares are a good representative asset of a company so we will select for these in our pipeline.\n",
    "\n",
    "ADRs and GDRs are issuances in the US equity market for stocks that trade on other exchanges. Frequently, there is inherent risk associated with depositary receipts due to currency fluctuations so we exclude them from our pipeline.\n",
    "\n",
    "OTC, WI, and LP securities are not tradeable with most brokers. As a result, we exclude them from our pipeline.\n",
    "\n",
    "When it comes to ranking and comparing securities, it rarely makes sense to compare ETFs with regular stocks. ETFs are composites without fundamental data. They derive their value from a larger group of securities. To avoid comparing apples and oranges, we exclude them from our pipeline.\n",
    "\n",
    "##Creating Our Pipeline\n",
    "\n",
    "Let's create a filter for each criterion and combine them together to create a `tradeable_stocks` filter. First, we need to import the Morningstar `Dataset` as well as the `IsPrimaryShares` builtin filter."
   ]
  },
  {
   "cell_type": "code",
   "execution_count": 58,
   "metadata": {
    "collapsed": true
   },
   "outputs": [],
   "source": [
    "from quantopian.pipeline.data import morningstar\n",
    "from quantopian.pipeline.filters.morningstar import IsPrimaryShare"
   ]
  },
  {
   "cell_type": "markdown",
   "metadata": {},
   "source": [
    "Now we can define our filters:"
   ]
  },
  {
   "cell_type": "code",
   "execution_count": 59,
   "metadata": {
    "collapsed": true
   },
   "outputs": [],
   "source": [
    "# Filters for primary share equities. IsPrimaryShare is a built-in\n",
    "primary_share = IsPrimaryShare()\n",
    "\n",
    "# Equities listed a common stock (as opposed to, say, preferred stock)\n",
    "# 'ST00000001' indicates common stock.\n",
    "common_stock = morningstar.share_class_reference.security_type.latest.eq('ST00000001')\n",
    "\n",
    "# Non-depositary receipts. Recall that the ~ operator inverts filters,\n",
    "# turning Trues into Falses and vice versa\n",
    "not_depositary = ~morningstar.share_class_reference.is_depositary_receipt.latest\n",
    "\n",
    "# Equities not trading over-the-counter.\n",
    "not_otc = ~morningstar.share_class_reference.exchange_id.latest.startswith('OTC')\n",
    "\n",
    "# Not when-issued equities.\n",
    "not_wi = ~morningstar.share_class_reference.symbol.latest.endswith('.WI')\n",
    "\n",
    "# Equities without LP in their name, .matches does a match using a regular\n",
    "# expression\n",
    "not_lp_name = ~morningstar.company_reference.standard_name.latest.matches('.* L[. ]?P.?$')\n",
    "\n",
    "# Equities with a null value in the limited_partnership Morningstar\n",
    "# fundamental field.\n",
    "not_lp_balance_sheet = morningstar.balance_sheet.limited_partnership.latest.isnull()\n",
    "\n",
    "# Equities whose most recent Morningstar market cap is not null have\n",
    "# fundamental data and therefore are not ETFs.\n",
    "have_market_cap = morningstar.valuation.market_cap.latest.notnull()\n",
    "\n",
    "# Filter for stocks that pass all of our previous filters.\n",
    "tradeable_stocks = (\n",
    "    primary_share\n",
    "    & common_stock\n",
    "    & not_depositary\n",
    "    & not_otc\n",
    "    & not_wi\n",
    "    & not_lp_name\n",
    "    & not_lp_balance_sheet\n",
    "    & have_market_cap\n",
    ")"
   ]
  },
  {
   "cell_type": "markdown",
   "metadata": {},
   "source": [
    "Note that wehn defining our filters, we used several `Classifier` methods that we haven't yet seen including `notnull`, `startswith`, `endswith`, `matches`. Documentation on these methods is available [here](https://www.quantopian.com/help#quantopian_pipeline_classifiers_Classifier).\n",
    "\n",
    "Next, let's create a filter for the top 30% of tradeable stocks by 20-day average dollar volume. We'll call this our `base_universe`."
   ]
  },
  {
   "cell_type": "code",
   "execution_count": 60,
   "metadata": {
    "collapsed": true
   },
   "outputs": [],
   "source": [
    "base_universe = AverageDollarVolume(window_length=20, mask=tradeable_stocks).percentile_between(70,100)"
   ]
  },
  {
   "cell_type": "markdown",
   "metadata": {},
   "source": [
    "###Built-in Base Universe\n",
    "\n",
    "We have just defined our own universe to select 'tradeable' securities with high dollar volume. However, Quantopian has two built-in filters that do something similar. The [Q500US](https://www.quantopian.com/help#quantopian_pipeline_filters_Q500US) and the [Q1500US](https://www.quantopian.com/help#quantopian_pipeline_filters_Q1500US) are built-in pipeline filters that select a group of 500 or 1500 tradeable, liquid stocks each day. Constituents of these gorups are chosen at the start of each calendar month by selecting the top 'tradeable' stocks by 200-day average dollar volume, capped at 30% of equities allocated to any single sector (more detail on the selection criteria of these filters can be found [here](https://www.quantopian.com/posts/the-q500us-and-q1500us)).\n",
    "\n",
    "To simplify our pipeline, let's replace what we've already written for our `base_universe` with the `Q1500US` built-in filter. First, we need to import it."
   ]
  },
  {
   "cell_type": "code",
   "execution_count": 61,
   "metadata": {
    "collapsed": true
   },
   "outputs": [],
   "source": [
    "from quantopian.pipeline.filters.morningstar import Q1500US"
   ]
  },
  {
   "cell_type": "markdown",
   "metadata": {},
   "source": [
    "Then, let's set our `base_universe` to the Q1500US."
   ]
  },
  {
   "cell_type": "code",
   "execution_count": 62,
   "metadata": {
    "collapsed": true
   },
   "outputs": [],
   "source": [
    "base_universe = Q1500US()"
   ]
  },
  {
   "cell_type": "markdown",
   "metadata": {},
   "source": [
    "###Mean Reversion Factors\n",
    "\n",
    "Now that we have a filter `base_universe` that we can use to select a subset of securities, let's fous on creating factors for this subset. For example, let's create a pipeline for a mean reversion strategy. In this strategy, we'll look at the 10-day and 30-day moving averages (close price). Let's plan to open equally weighted long positions in the 25 securities with the least (most negative) percent difference and equally weighted short positions in the 25 with the greatest percent difference. To do this, let's create two moving average factors using our `base_universe` filter as a mask. then let's combine them into a factor computing the percent difference."
   ]
  },
  {
   "cell_type": "code",
   "execution_count": 63,
   "metadata": {
    "collapsed": true
   },
   "outputs": [],
   "source": [
    "# 10-day close price average\n",
    "mean_10 = SimpleMovingAverage(inputs=[USEquityPricing.close], window_length=10, mask=base_universe)\n",
    "\n",
    "# 30-day close price average.\n",
    "mean_30 = SimpleMovingAverage(inputs=[USEquityPricing.close], window_length=30, mask=base_universe)\n",
    "\n",
    "percent_difference = (mean_10 - mean_30) / mean_30"
   ]
  },
  {
   "cell_type": "markdown",
   "metadata": {},
   "source": [
    "Next, let's create filters for the top 25 and bottom 25 equities by `percent_difference`."
   ]
  },
  {
   "cell_type": "code",
   "execution_count": 64,
   "metadata": {
    "collapsed": true
   },
   "outputs": [],
   "source": [
    "# Create a filter to select securities to short.\n",
    "shorts = percent_difference.top(25)\n",
    "\n",
    "# Create a filter to select securities to long.\n",
    "longs = percent_difference.bottom(25)"
   ]
  },
  {
   "cell_type": "markdown",
   "metadata": {},
   "source": [
    "Let's then combine `shorts` and `longs` to create a new filter that we can use as the screen of our pipeline:"
   ]
  },
  {
   "cell_type": "code",
   "execution_count": 65,
   "metadata": {
    "collapsed": true
   },
   "outputs": [],
   "source": [
    "securities_to_trade = (shorts | longs)"
   ]
  },
  {
   "cell_type": "markdown",
   "metadata": {},
   "source": [
    "Since our earlier filters were used as masks as we built up to this final filter, when we use `securities_to_trade` as a screen, the output securities will meet the criteria ourlined at the beginning of the lesson (primary shares, non-ETFs, etc.). They will also have high dollar volume.\n",
    "\n",
    "Finally, let's instantiate our pipeline. Since we are planning on opening equally weighted long and short potitions later, the only information that we actually need from our pipeline is which securities we want to trade (the pipeline index) and whether or not to open a long or a short position. Let's add our `longs` and `shorts` filters to our pipeline and set our screen to be `securities_to_trade`."
   ]
  },
  {
   "cell_type": "code",
   "execution_count": 66,
   "metadata": {
    "collapsed": true
   },
   "outputs": [],
   "source": [
    "def make_pipeline():\n",
    "\n",
    "    # Base universe filter.\n",
    "    base_universe = Q1500US()\n",
    "\n",
    "    # 10-day close price average.\n",
    "    mean_10 = SimpleMovingAverage(inputs=[USEquityPricing.close], window_length=10, mask=base_universe)\n",
    "\n",
    "    # 30-day close price average.\n",
    "    mean_30 = SimpleMovingAverage(inputs=[USEquityPricing.close], window_length=30, mask=base_universe)\n",
    "\n",
    "    # Percent difference factor.\n",
    "    percent_difference = (mean_10 - mean_30) / mean_30\n",
    "\n",
    "    # Create a filter to select securities to short.\n",
    "    shorts = percent_difference.top(25)\n",
    "\n",
    "    # Create a filter to select securities to long.\n",
    "    longs = percent_difference.bottom(25)\n",
    "\n",
    "    # Filter for the securities that we want to trade.\n",
    "    securities_to_trade = (shorts | longs)\n",
    "\n",
    "    return Pipeline(\n",
    "      columns={\n",
    "        'longs': longs,\n",
    "        'shorts': shorts\n",
    "      },\n",
    "      screen=securities_to_trade\n",
    "    )"
   ]
  },
  {
   "cell_type": "markdown",
   "metadata": {},
   "source": [
    "Running this pipeline will result in a DataFrame with 50 rows and 2 columns each day. Each day, the columns will contain boolean values that we can use to decide whether we want to open a long or a short position in each security."
   ]
  },
  {
   "cell_type": "code",
   "execution_count": 67,
   "metadata": {
    "collapsed": false
   },
   "outputs": [
    {
     "data": {
      "text/html": [
       "<div>\n",
       "<table border=\"1\" class=\"dataframe\">\n",
       "  <thead>\n",
       "    <tr style=\"text-align: right;\">\n",
       "      <th></th>\n",
       "      <th></th>\n",
       "      <th>longs</th>\n",
       "      <th>shorts</th>\n",
       "    </tr>\n",
       "  </thead>\n",
       "  <tbody>\n",
       "    <tr>\n",
       "      <th rowspan=\"5\" valign=\"top\">2015-05-05 00:00:00+00:00</th>\n",
       "      <th>Equity(351 [AMD])</th>\n",
       "      <td>True</td>\n",
       "      <td>False</td>\n",
       "    </tr>\n",
       "    <tr>\n",
       "      <th>Equity(523 [AAN])</th>\n",
       "      <td>False</td>\n",
       "      <td>True</td>\n",
       "    </tr>\n",
       "    <tr>\n",
       "      <th>Equity(1068 [BPT])</th>\n",
       "      <td>False</td>\n",
       "      <td>True</td>\n",
       "    </tr>\n",
       "    <tr>\n",
       "      <th>Equity(1663 [CRK])</th>\n",
       "      <td>False</td>\n",
       "      <td>True</td>\n",
       "    </tr>\n",
       "    <tr>\n",
       "      <th>Equity(4668 [MAT])</th>\n",
       "      <td>False</td>\n",
       "      <td>True</td>\n",
       "    </tr>\n",
       "  </tbody>\n",
       "</table>\n",
       "</div>"
      ],
      "text/plain": [
       "                                              longs shorts\n",
       "2015-05-05 00:00:00+00:00 Equity(351 [AMD])    True  False\n",
       "                          Equity(523 [AAN])   False   True\n",
       "                          Equity(1068 [BPT])  False   True\n",
       "                          Equity(1663 [CRK])  False   True\n",
       "                          Equity(4668 [MAT])  False   True"
      ]
     },
     "execution_count": 67,
     "metadata": {},
     "output_type": "execute_result"
    }
   ],
   "source": [
    "result = run_pipeline(make_pipeline(), '2015-05-05', '2015-05-05')\n",
    "result.head()"
   ]
  },
  {
   "cell_type": "markdown",
   "metadata": {},
   "source": [
    "In the next lesson, we'll add this pipeline to an algorithm."
   ]
  },
  {
   "cell_type": "code",
   "execution_count": null,
   "metadata": {
    "collapsed": true
   },
   "outputs": [],
   "source": []
  }
 ],
 "metadata": {
  "kernelspec": {
   "display_name": "Python 2",
   "language": "python",
   "name": "python2"
  },
  "language_info": {
   "codemirror_mode": {
    "name": "ipython",
    "version": 2
   },
   "file_extension": ".py",
   "mimetype": "text/x-python",
   "name": "python",
   "nbconvert_exporter": "python",
   "pygments_lexer": "ipython2",
   "version": "2.7.12"
  }
 },
 "nbformat": 4,
 "nbformat_minor": 0
}