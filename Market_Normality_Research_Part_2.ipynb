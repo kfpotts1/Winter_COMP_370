{
 "cells": [
  {
   "cell_type": "markdown",
   "metadata": {},
   "source": [
    "# Analysis of Market Returns: Part 2\n",
    "\n",
    "Here I will continue my analysis the distribution of market returns. From the previous noebook"
   ]
  },
  {
   "cell_type": "code",
   "execution_count": 1,
   "metadata": {
    "collapsed": false
   },
   "outputs": [],
   "source": [
    "# Importing the libraries I anticipate using\n",
    "import pandas as pd\n",
    "from pandas import DataFrame, Series\n",
    "import numpy as np\n",
    "import pandas_datareader.data as web\n",
    "import statsmodels\n",
    "import statsmodels.api as sm\n",
    "import matplotlib.pyplot as plt\n",
    "from matplotlib import style\n",
    "import seaborn as sns\n",
    "import datetime\n",
    "import scipy.stats as stats\n",
    "import quandl\n",
    "import time\n",
    "\n",
    "%matplotlib inline"
   ]
  },
  {
   "cell_type": "markdown",
   "metadata": {},
   "source": [
    "## More Data\n",
    "\n",
    "To make the remaining work easier, I am going to design a `Data` class to interact with get get and store the data that I will be using. I will also be introducing currency data from the European Central Bank data on Quandl."
   ]
  },
  {
   "cell_type": "code",
   "execution_count": 2,
   "metadata": {
    "collapsed": true
   },
   "outputs": [],
   "source": [
    "# get my quandl api key, I don't want to show the key so I'll read it in.\n",
    "f = open('/Users/kennypotts/Desktop/Data/quandl_api_key.txt', 'r')\n",
    "key = f.read()\n",
    "key = key.strip()\n",
    "quandl.ApiConfig.api_key = key"
   ]
  },
  {
   "cell_type": "code",
   "execution_count": 3,
   "metadata": {
    "collapsed": false
   },
   "outputs": [
    {
     "data": {
      "text/html": [
       "<div>\n",
       "<table border=\"1\" class=\"dataframe\">\n",
       "  <thead>\n",
       "    <tr style=\"text-align: right;\">\n",
       "      <th></th>\n",
       "      <th>Value</th>\n",
       "    </tr>\n",
       "    <tr>\n",
       "      <th>Date</th>\n",
       "      <th></th>\n",
       "    </tr>\n",
       "  </thead>\n",
       "  <tbody>\n",
       "    <tr>\n",
       "      <th>1999-01-04</th>\n",
       "      <td>1.1789</td>\n",
       "    </tr>\n",
       "    <tr>\n",
       "      <th>1999-01-05</th>\n",
       "      <td>1.1790</td>\n",
       "    </tr>\n",
       "    <tr>\n",
       "      <th>1999-01-06</th>\n",
       "      <td>1.1743</td>\n",
       "    </tr>\n",
       "    <tr>\n",
       "      <th>1999-01-07</th>\n",
       "      <td>1.1632</td>\n",
       "    </tr>\n",
       "    <tr>\n",
       "      <th>1999-01-08</th>\n",
       "      <td>1.1659</td>\n",
       "    </tr>\n",
       "  </tbody>\n",
       "</table>\n",
       "</div>"
      ],
      "text/plain": [
       "             Value\n",
       "Date              \n",
       "1999-01-04  1.1789\n",
       "1999-01-05  1.1790\n",
       "1999-01-06  1.1743\n",
       "1999-01-07  1.1632\n",
       "1999-01-08  1.1659"
      ]
     },
     "execution_count": 3,
     "metadata": {},
     "output_type": "execute_result"
    }
   ],
   "source": [
    "data = quandl.get('ECB/EURUSD')\n",
    "data.head()"
   ]
  },
  {
   "cell_type": "markdown",
   "metadata": {},
   "source": [
    "Unfortunately, Quandle seems to only have a few free sources for currency prices which each offer only a few pairs. I am going to try to get this data from foreign exchange broker Oanda."
   ]
  },
  {
   "cell_type": "code",
   "execution_count": 2,
   "metadata": {
    "collapsed": true
   },
   "outputs": [],
   "source": [
    "# Python wrapper for oanda API, this wrapper needs some work but will do the job for now I think.\n",
    "import oandapy as opy\n",
    "\n",
    "# get my oada api key, I don't want to show the key so I'll read it in.\n",
    "f = open('/Users/kennypotts/Desktop/Data/oanda_api_key.txt', 'r')\n",
    "key = f.read()\n",
    "key = key.strip()\n",
    "\n",
    "oanda = opy.API(environment='practice', access_token=key)"
   ]
  },
  {
   "cell_type": "code",
   "execution_count": 10,
   "metadata": {
    "collapsed": false
   },
   "outputs": [
    {
     "name": "stdout",
     "output_type": "stream",
     "text": [
      "fethcing data for  EUR_USD\n"
     ]
    }
   ],
   "source": [
    "# I am going to try to get minutely data form oanda, \n",
    "# I have to do it in chuncks because they have a 5000 limit for each request\n",
    "\n",
    "start = '2002-05-05'\n",
    "end = '2016-07-01'\n",
    "\n",
    "dates = pd.date_range(start=start, end=end, freq='D')\n",
    "instrument = 'EUR_USD'\n",
    "df = DataFrame()\n",
    "\n",
    "print('fethcing data for ',instrument)\n",
    "for i in range(0, len(dates) - 1):\n",
    "    # Format of date required by oanda API\n",
    "    d1 = str(dates[i]).replace(' ', 'T')\n",
    "    d2 = str(dates[i + 1]).replace(' ', 'T')\n",
    "\n",
    "    try:\n",
    "        d = oanda.get_history(instrument = instrument, start=d1, end=d2,\n",
    "                                 alignmentTimezone='America/New_York', granularity='M5')\n",
    "        df = df.append(DataFrame(d['candles']))\n",
    "    except:\n",
    "        pass\n",
    "\n",
    "df = df.set_index('time')\n",
    "df.index = [pd.datetime.strptime(x,\"%Y-%m-%dT%H:%M:%S.%fZ\") for x in df.index]\n",
    "eur_usd = df"
   ]
  },
  {
   "cell_type": "code",
   "execution_count": 11,
   "metadata": {
    "collapsed": false,
    "scrolled": true
   },
   "outputs": [
    {
     "name": "stdout",
     "output_type": "stream",
     "text": [
      "767332\n"
     ]
    },
    {
     "data": {
      "text/html": [
       "<div>\n",
       "<table border=\"1\" class=\"dataframe\">\n",
       "  <thead>\n",
       "    <tr style=\"text-align: right;\">\n",
       "      <th></th>\n",
       "      <th>closeAsk</th>\n",
       "      <th>closeBid</th>\n",
       "      <th>complete</th>\n",
       "      <th>highAsk</th>\n",
       "      <th>highBid</th>\n",
       "      <th>lowAsk</th>\n",
       "      <th>lowBid</th>\n",
       "      <th>openAsk</th>\n",
       "      <th>openBid</th>\n",
       "      <th>volume</th>\n",
       "    </tr>\n",
       "  </thead>\n",
       "  <tbody>\n",
       "    <tr>\n",
       "      <th>2002-05-06 20:55:00</th>\n",
       "      <td>0.9184</td>\n",
       "      <td>0.9181</td>\n",
       "      <td>True</td>\n",
       "      <td>0.9184</td>\n",
       "      <td>0.9181</td>\n",
       "      <td>0.9184</td>\n",
       "      <td>0.9181</td>\n",
       "      <td>0.9184</td>\n",
       "      <td>0.9181</td>\n",
       "      <td>1</td>\n",
       "    </tr>\n",
       "    <tr>\n",
       "      <th>2002-05-07 20:55:00</th>\n",
       "      <td>0.9155</td>\n",
       "      <td>0.9152</td>\n",
       "      <td>True</td>\n",
       "      <td>0.9155</td>\n",
       "      <td>0.9152</td>\n",
       "      <td>0.9155</td>\n",
       "      <td>0.9152</td>\n",
       "      <td>0.9155</td>\n",
       "      <td>0.9152</td>\n",
       "      <td>1</td>\n",
       "    </tr>\n",
       "    <tr>\n",
       "      <th>2002-05-08 20:55:00</th>\n",
       "      <td>0.9045</td>\n",
       "      <td>0.9042</td>\n",
       "      <td>True</td>\n",
       "      <td>0.9045</td>\n",
       "      <td>0.9042</td>\n",
       "      <td>0.9045</td>\n",
       "      <td>0.9042</td>\n",
       "      <td>0.9045</td>\n",
       "      <td>0.9042</td>\n",
       "      <td>1</td>\n",
       "    </tr>\n",
       "    <tr>\n",
       "      <th>2002-05-09 20:55:00</th>\n",
       "      <td>0.9095</td>\n",
       "      <td>0.9092</td>\n",
       "      <td>True</td>\n",
       "      <td>0.9095</td>\n",
       "      <td>0.9092</td>\n",
       "      <td>0.9095</td>\n",
       "      <td>0.9092</td>\n",
       "      <td>0.9095</td>\n",
       "      <td>0.9092</td>\n",
       "      <td>1</td>\n",
       "    </tr>\n",
       "    <tr>\n",
       "      <th>2002-05-10 20:55:00</th>\n",
       "      <td>0.9145</td>\n",
       "      <td>0.9135</td>\n",
       "      <td>True</td>\n",
       "      <td>0.9145</td>\n",
       "      <td>0.9135</td>\n",
       "      <td>0.9145</td>\n",
       "      <td>0.9135</td>\n",
       "      <td>0.9145</td>\n",
       "      <td>0.9135</td>\n",
       "      <td>1</td>\n",
       "    </tr>\n",
       "  </tbody>\n",
       "</table>\n",
       "</div>"
      ],
      "text/plain": [
       "                     closeAsk  closeBid complete  highAsk  highBid  lowAsk  \\\n",
       "2002-05-06 20:55:00    0.9184    0.9181     True   0.9184   0.9181  0.9184   \n",
       "2002-05-07 20:55:00    0.9155    0.9152     True   0.9155   0.9152  0.9155   \n",
       "2002-05-08 20:55:00    0.9045    0.9042     True   0.9045   0.9042  0.9045   \n",
       "2002-05-09 20:55:00    0.9095    0.9092     True   0.9095   0.9092  0.9095   \n",
       "2002-05-10 20:55:00    0.9145    0.9135     True   0.9145   0.9135  0.9145   \n",
       "\n",
       "                     lowBid  openAsk  openBid  volume  \n",
       "2002-05-06 20:55:00  0.9181   0.9184   0.9181       1  \n",
       "2002-05-07 20:55:00  0.9152   0.9155   0.9152       1  \n",
       "2002-05-08 20:55:00  0.9042   0.9045   0.9042       1  \n",
       "2002-05-09 20:55:00  0.9092   0.9095   0.9092       1  \n",
       "2002-05-10 20:55:00  0.9135   0.9145   0.9135       1  "
      ]
     },
     "execution_count": 11,
     "metadata": {},
     "output_type": "execute_result"
    }
   ],
   "source": [
    "print(len(eur_usd))\n",
    "eur_usd.head()\n"
   ]
  },
  {
   "cell_type": "code",
   "execution_count": 15,
   "metadata": {
    "collapsed": false
   },
   "outputs": [
    {
     "data": {
      "image/png": "[encoded data removed]",
      "text/plain": [
       "<matplotlib.figure.Figure at 0x106a5cba8>"
      ]
     },
     "metadata": {},
     "output_type": "display_data"
    }
   ],
   "source": [
    "style.use('seaborn-notebook')\n",
    "\n",
    "eur_usd.closeAsk.plot();"
   ]
  },
  {
   "cell_type": "code",
   "execution_count": 55,
   "metadata": {
    "collapsed": false
   },
   "outputs": [
    {
     "name": "stdout",
     "output_type": "stream",
     "text": [
      "fethcing data for  EUR_USD\n",
      "CPU times: user 2.51 s, sys: 128 ms, total: 2.63 s\n",
      "Wall time: 10 s\n"
     ]
    }
   ],
   "source": [
    "%%time\n",
    "# I am going to try to get minutely data form oanda, \n",
    "# I have to do it in chuncks because they have a 5000 limit for each request\n",
    "\n",
    "start = '2002-05-05'\n",
    "end = '2016-07-01'\n",
    "\n",
    "dates = pd.date_range(start=start, end=end, freq='6M')\n",
    "instrument = 'EUR_USD'\n",
    "df = DataFrame()\n",
    "\n",
    "print('fethcing data for ',instrument)\n",
    "for i in range(0, len(dates) - 1):\n",
    "    # Format of date required by oanda API\n",
    "    d1 = str(dates[i]).replace(' ', 'T')\n",
    "    d2 = str(dates[i + 1]).replace(' ', 'T')\n",
    "\n",
    "    try:\n",
    "        d = oanda.get_history(instrument = instrument, start=d1, end=d2,\n",
    "                                 alignmentTimezone='America/New_York', granularity='H1')\n",
    "        df = df.append(DataFrame(d['candles']))\n",
    "    except:\n",
    "        pass\n",
    "\n",
    "df = df.set_index('time')\n",
    "df.index = [pd.datetime.strptime(x,\"%Y-%m-%dT%H:%M:%S.%fZ\") for x in df.index]\n",
    "e_u = df"
   ]
  },
  {
   "cell_type": "code",
   "execution_count": 52,
   "metadata": {
    "collapsed": false
   },
   "outputs": [],
   "source": [
    "start = '2002-05-05'\n",
    "end = '2016-07-01'\n",
    "\n",
    "dates = pd.date_range(start=start, end=end, freq='9M')"
   ]
  },
  {
   "cell_type": "code",
   "execution_count": 53,
   "metadata": {
    "collapsed": false
   },
   "outputs": [
    {
     "data": {
      "text/plain": [
       "19"
      ]
     },
     "execution_count": 53,
     "metadata": {},
     "output_type": "execute_result"
    }
   ],
   "source": [
    "len(dates)"
   ]
  },
  {
   "cell_type": "code",
   "execution_count": 56,
   "metadata": {
    "collapsed": false,
    "scrolled": true
   },
   "outputs": [
    {
     "name": "stdout",
     "output_type": "stream",
     "text": [
      "74483\n"
     ]
    },
    {
     "data": {
      "text/html": [
       "<div>\n",
       "<table border=\"1\" class=\"dataframe\">\n",
       "  <thead>\n",
       "    <tr style=\"text-align: right;\">\n",
       "      <th></th>\n",
       "      <th>closeAsk</th>\n",
       "      <th>closeBid</th>\n",
       "      <th>complete</th>\n",
       "      <th>highAsk</th>\n",
       "      <th>highBid</th>\n",
       "      <th>lowAsk</th>\n",
       "      <th>lowBid</th>\n",
       "      <th>openAsk</th>\n",
       "      <th>openBid</th>\n",
       "      <th>volume</th>\n",
       "    </tr>\n",
       "  </thead>\n",
       "  <tbody>\n",
       "    <tr>\n",
       "      <th>2016-05-30 19:00:00</th>\n",
       "      <td>1.11414</td>\n",
       "      <td>1.11401</td>\n",
       "      <td>True</td>\n",
       "      <td>1.11431</td>\n",
       "      <td>1.11409</td>\n",
       "      <td>1.11371</td>\n",
       "      <td>1.11352</td>\n",
       "      <td>1.11384</td>\n",
       "      <td>1.11366</td>\n",
       "      <td>270</td>\n",
       "    </tr>\n",
       "    <tr>\n",
       "      <th>2016-05-30 20:00:00</th>\n",
       "      <td>1.11400</td>\n",
       "      <td>1.11358</td>\n",
       "      <td>True</td>\n",
       "      <td>1.11428</td>\n",
       "      <td>1.11408</td>\n",
       "      <td>1.11378</td>\n",
       "      <td>1.11352</td>\n",
       "      <td>1.11420</td>\n",
       "      <td>1.11402</td>\n",
       "      <td>309</td>\n",
       "    </tr>\n",
       "    <tr>\n",
       "      <th>2016-05-30 21:00:00</th>\n",
       "      <td>1.11365</td>\n",
       "      <td>1.11336</td>\n",
       "      <td>True</td>\n",
       "      <td>1.11407</td>\n",
       "      <td>1.11372</td>\n",
       "      <td>1.11363</td>\n",
       "      <td>1.11326</td>\n",
       "      <td>1.11401</td>\n",
       "      <td>1.11363</td>\n",
       "      <td>116</td>\n",
       "    </tr>\n",
       "    <tr>\n",
       "      <th>2016-05-30 22:00:00</th>\n",
       "      <td>1.11428</td>\n",
       "      <td>1.11409</td>\n",
       "      <td>True</td>\n",
       "      <td>1.11429</td>\n",
       "      <td>1.11410</td>\n",
       "      <td>1.11354</td>\n",
       "      <td>1.11335</td>\n",
       "      <td>1.11356</td>\n",
       "      <td>1.11338</td>\n",
       "      <td>359</td>\n",
       "    </tr>\n",
       "    <tr>\n",
       "      <th>2016-05-30 23:00:00</th>\n",
       "      <td>1.11484</td>\n",
       "      <td>1.11469</td>\n",
       "      <td>True</td>\n",
       "      <td>1.11504</td>\n",
       "      <td>1.11488</td>\n",
       "      <td>1.11428</td>\n",
       "      <td>1.11412</td>\n",
       "      <td>1.11429</td>\n",
       "      <td>1.11412</td>\n",
       "      <td>349</td>\n",
       "    </tr>\n",
       "  </tbody>\n",
       "</table>\n",
       "</div>"
      ],
      "text/plain": [
       "                     closeAsk  closeBid complete  highAsk  highBid   lowAsk  \\\n",
       "2016-05-30 19:00:00   1.11414   1.11401     True  1.11431  1.11409  1.11371   \n",
       "2016-05-30 20:00:00   1.11400   1.11358     True  1.11428  1.11408  1.11378   \n",
       "2016-05-30 21:00:00   1.11365   1.11336     True  1.11407  1.11372  1.11363   \n",
       "2016-05-30 22:00:00   1.11428   1.11409     True  1.11429  1.11410  1.11354   \n",
       "2016-05-30 23:00:00   1.11484   1.11469     True  1.11504  1.11488  1.11428   \n",
       "\n",
       "                      lowBid  openAsk  openBid  volume  \n",
       "2016-05-30 19:00:00  1.11352  1.11384  1.11366     270  \n",
       "2016-05-30 20:00:00  1.11352  1.11420  1.11402     309  \n",
       "2016-05-30 21:00:00  1.11326  1.11401  1.11363     116  \n",
       "2016-05-30 22:00:00  1.11335  1.11356  1.11338     359  \n",
       "2016-05-30 23:00:00  1.11412  1.11429  1.11412     349  "
      ]
     },
     "execution_count": 56,
     "metadata": {},
     "output_type": "execute_result"
    }
   ],
   "source": [
    "print(len(e_u))\n",
    "e_u.tail()"
   ]
  },
  {
   "cell_type": "code",
   "execution_count": 3,
   "metadata": {
    "collapsed": false
   },
   "outputs": [
    {
     "name": "stdout",
     "output_type": "stream",
     "text": [
      "AUD_CAD, AUD_CHF, AUD_HKD, AUD_JPY, AUD_NZD, AUD_SGD, AUD_USD, CAD_CHF, CAD_HKD, CAD_JPY, CAD_SGD, CHF_HKD, CHF_JPY, CHF_ZAR, EUR_AUD, EUR_CAD, EUR_CHF, EUR_CZK, EUR_DKK, EUR_GBP, EUR_HKD, EUR_HUF, EUR_JPY, EUR_NOK, EUR_NZD, EUR_PLN, EUR_SEK, EUR_SGD, EUR_TRY, EUR_USD, EUR_ZAR, GBP_AUD, GBP_CAD, GBP_CHF, GBP_HKD, GBP_JPY, GBP_NZD, GBP_PLN, GBP_SGD, GBP_USD, GBP_ZAR, HKD_JPY, NZD_CAD, NZD_CHF, NZD_HKD, NZD_JPY, NZD_SGD, NZD_USD, SGD_CHF, SGD_HKD, SGD_JPY, TRY_JPY, USD_CAD, USD_CHF, USD_CNH, USD_CZK, USD_DKK, USD_HKD, USD_HUF, USD_JPY, USD_MXN, USD_NOK, USD_PLN, USD_SAR, USD_SEK, USD_SGD, USD_THB, USD_TRY, USD_ZAR, ZAR_JPY, "
     ]
    }
   ],
   "source": [
    "# Available instruments to trade\n",
    "\n",
    "accts = oanda.get_accounts()\n",
    "acct_id = accts['accounts'][0]['accountId']\n",
    "ins = oanda.get_instruments(account_id=acct_id)['instruments']\n",
    "ins_list = []\n",
    "for i in ins:\n",
    "    ins_list.append(i['instrument'])\n",
    "    print(i['instrument'], end=', ')"
   ]
  },
  {
   "cell_type": "markdown",
   "metadata": {},
   "source": [
    "I am able to get all of the currency data that I nee from Oanda.\n",
    "\n",
    "## Constructing the Data Object\n",
    "\n",
    "The `Data` object, with which I will interact, holds onto the `Currencies` and and `Equities` classes. The `Currencies` class organizes currencies by their base currency and holds onto a number of `Currency_Base` objects, each of which holds a number of `Currency_Pair` objects. The `Currency_Pair` object finds and holds the data for a unique currency pair. The `Equities` object hold onto two categories of `Equity` objects, ETFs and regular equities. It also has a few functions which can be used to make selections of different `Equity` objects. Each `Equitiy` object finds and holds data on a unique equity."
   ]
  },
  {
   "cell_type": "code",
   "execution_count": 3,
   "metadata": {
    "collapsed": false
   },
   "outputs": [],
   "source": [
    "\n",
    "class Equity:\n",
    "    \"\"\"\n",
    "    Retrieves and holds data for a single equity\n",
    "    \"\"\"\n",
    "    def __init__(self, symbol, start='1990-01-01', end='today'):\n",
    "        self.symbol = symbol\n",
    "        start = start.split('-')\n",
    "        start = datetime.date(int(start[0]), int(start[1]), int(start[2]))\n",
    "        \n",
    "        if end == 'today':\n",
    "            end = datetime.date.today()\n",
    "        else:\n",
    "            end = end.split('-')\n",
    "            end = datetime.date(int(end[0]), int(end[1]), int(end[2]))\n",
    "            \n",
    "        # See if this data is already stored on the disk\n",
    "        with pd.HDFStore('project_data.h5') as store:\n",
    "            try:\n",
    "                self.pricing = store[\"/equities/\"+symbol+\"/pricing\"]\n",
    "                if len(self.actions.index) > 0:\n",
    "                    self.adj_pricing = store[\"/equities/\"+symbol+\"/adj_pricing\"]\n",
    "                self.returns = store[\"/equities/\"+symbol+\"/returns\"].dropna(how='all')\n",
    "                self.actions = strore['/equities/'+symbol+'/actions']\n",
    "                self.start = self.pricing.index[0]\n",
    "                self.end = self.pricing.index[-1]\n",
    "            except:\n",
    "                self.pricing = web.DataReader(self.symbol,'yahoo', start, end)\n",
    "                store[\"/equities/\"+symbol+\"/pricing\"] = self.pricing\n",
    "                self.start = self.pricing.index[0]\n",
    "                self.end = self.pricing.index[-1]\n",
    "                self.actions = web.DataReader(self.symbol, 'yahoo-actions', self.start, self.end)\n",
    "                store['/equities/'+symbol+'/actions'] = self.actions\n",
    "                if len(self.actions.index) > 0:\n",
    "                    self.add_adjusted_data()\n",
    "                    store[\"/equities/\"+symbol+\"/adj_pricing\"] = self.adj_pricing\n",
    "                self.returns = np.log(1 + self.pricing['Adj Close'].pct_change())[1:]\n",
    "                store[\"/equities/\"+symbol+\"/returns\"] = self.returns\n",
    "                \n",
    "    def __repr__(self):\n",
    "        return \"Equity Object: \"+self.symbol\n",
    "\n",
    "        \n",
    "        \n",
    "    def add_adjusted_data(self):\n",
    "        \"\"\"\n",
    "        Calculates and adds split adjusted price data as self.adj_pricing.\n",
    "\n",
    "        Uses yahoo-actions data to determine when and how much stock plits were,\n",
    "        if they have occured. The initial data are adjusted for the splits,\n",
    "        with the exception of the Adj Close and Volume which have already been adjusted.\n",
    "        Adds adjust data as self.adj_pricing\n",
    "        \"\"\"\n",
    "        splits = self.actions[self.actions.action == 'SPLIT']\n",
    "        self.adj_pricing = self.pricing.copy()\n",
    "        if len(splits.index) > 0:\n",
    "            # Find the index and date of the split\n",
    "            split_idxs = {i:x for i,x in enumerate(self.adj_pricing.index.tolist()) if x in splits.index}\n",
    "            columns = self.adj_pricing.columns.tolist()\n",
    "\n",
    "            # adjust for the splits\n",
    "            for idx, date in split_idxs.items():\n",
    "                for col in range(len(columns)):\n",
    "                    if columns[col] != 'Volume' and columns[col] != 'Adj Close':\n",
    "                        # adjust the prices of the shares\n",
    "                        self.adj_pricing.iloc[:idx, col] = self.adj_pricing.iloc[:idx, col]*splits.loc[date].value\n",
    "\n",
    "class Equities:\n",
    "    \"\"\"\n",
    "    Holds Equity Objects and data as attributes.\n",
    "    \"\"\"\n",
    "    def __init__(self):\n",
    "        with pd.HDFStore('project_data.h5') as store:\n",
    "            self.equity_market_caps = store['market_cap_sr']\n",
    "            try:\n",
    "                self.removed_symbols = store['removed_symbols']\n",
    "            except:\n",
    "                self.removed_symbols = Series([])\n",
    "                store['removed_symbols'] = self.removed_symbols\n",
    "        self.equity_symbols = list(self.equity_market_caps.keys())\n",
    "        self.ETFs = {'SPY': Equity('SPY'), 'IWM': Equity('IWM'), 'QQQ': Equity('QQQ'),\n",
    "                     'DIA': Equity('DIA'), 'VTI': Equity('VTI')}\n",
    "        \n",
    "        self.equities = {}\n",
    "        \n",
    "    def __repr__(self):\n",
    "        return (\"Equities Object, Number of Equities: \"+str(len(self.equity_symbols))\n",
    "                +\", Number of ETFs: \"+str(len(self.ETFs.keys())))\n",
    "        \n",
    "    def get_equity(self, symbol):\n",
    "        \"\"\"\n",
    "        Gets and the Equity object for a specific symbol.\n",
    "        \n",
    "        If the data for the Equity object does not exist, the Equity is created if possible.\n",
    "        If the Equity data cannot be found, will return None, otherwise will return the Equity.\n",
    "        \"\"\"\n",
    "        if symbol in self.equities.keys():\n",
    "            return self.equities[symbol]\n",
    "        elif symbol in self.ETFs.keys():\n",
    "            return self.ETFs[symbol]\n",
    "        elif symbol in self.equity_symbols:\n",
    "            try:\n",
    "                new_equity = Equity(symbol)\n",
    "                self.equities[symbol] = new_equity\n",
    "                return new_equity\n",
    "            except Exception as e:\n",
    "                #print('Could not retrieve data for this symbol '+symbol\n",
    "                #      +\", removing symbol and selecting a new one\")\n",
    "                # Remove bad symbol\n",
    "                self.equity_symbols.remove(symbol)\n",
    "                self.equity_market_caps = self.equity_market_caps[self.equity_market_caps.index != symbol]\n",
    "                self.removed_symbols = self.removed_symbols.append(Series([symbol],\n",
    "                                                                          index=[self.removed_symbols.shape[0]]))\n",
    "                \n",
    "                return None\n",
    "        else:\n",
    "            print('Data unavailable for ',symbol)\n",
    "            return None\n",
    "        \n",
    "            \n",
    "    def random_selection(self, size=1, include_ETFs=False):\n",
    "        \"\"\"\n",
    "        Returns a random selection of equity objects of the specified size.\n",
    "        \n",
    "        Chosen without replacement. include_ETFs=False by default, set to True to inclue ETFs.\n",
    "        Will return None if size < 1\n",
    "        \"\"\"\n",
    "        size = int(size)\n",
    "        if include_ETFs:\n",
    "            symbols = list(np.random.choice(self.equity_symbols + list(self.ETFs.keys())\n",
    "                                            , size=size, replace=False))\n",
    "        else:\n",
    "            symbols = list(np.random.choice(self.equity_symbols, size=size, replace=False))\n",
    "        if size > 0:\n",
    "            selections = []\n",
    "            for i in range(size):\n",
    "                eq = self.get_equity(symbols[i])\n",
    "                while eq == None:\n",
    "                    if include_ETFs:\n",
    "                        new_symbol = list(np.random.choice(self.equity_symbols + list(self.ETFs.keys()),\n",
    "                                                        size=1, replace=False))[0]\n",
    "                    else:\n",
    "                        new_symbol = list(np.random.choice(self.equity_symbols, size=1, replace=False))[0]\n",
    "                    if new_symbol not in symbols:\n",
    "                        symbols[i] = new_symbol\n",
    "                        eq = self.get_equity(new_symbol)\n",
    "                selections.append(eq)\n",
    "            return selections\n",
    "        return None\n",
    "                    \n",
    "        \n",
    "        \n",
    "    def __del__(self):\n",
    "        \"\"\"\n",
    "        Stores the updated market_cap_sr Series\n",
    "        \"\"\"\n",
    "        with pd.HDFStore('project_data.h5') as store:\n",
    "            try:\n",
    "                store['market_cap_sr'] = self.equity_market_caps\n",
    "                store['removed_symbols'] = self.removed_symbols\n",
    "            except:\n",
    "                pass\n",
    "        \n",
    "        \n",
    "class Currency_Pair:\n",
    "    def __init__(self, base, quote, oanda):\n",
    "        self.pair_name = quote+'/'+base\n",
    "        # \"no more than 120 requests per second on average, with bursts of no more than 60 requests\"\n",
    "        # add random delay to prevent request rejection\n",
    "        time.sleep(np.random.randint(2,10))\n",
    "        \n",
    "        # Check disk for existing data, if nothing, then download\n",
    "        with pd.HDFStore('project_data.h5') as store:\n",
    "            try:\n",
    "                self.pricing = store['/Currencies/Oanda/'+base+'/'+quote+'/pricing']\n",
    "                self.returns = store['/Currencies/Oanda/'+base+'/'+quote+'/returns'].dropna(how='all')\n",
    "            except:\n",
    "                start = '2002-05-05' # first day oanda's currency data\n",
    "                end = '2017-01-07'\n",
    "                \n",
    "                # I have to split it in chuncks because they have a 5000 limit for each request\n",
    "                dates = pd.date_range(start=start, end=end, freq='6M')\n",
    "                instrument = quote+'_'+base\n",
    "                df = DataFrame()\n",
    "\n",
    "                for i in range(0, len(dates) - 1):\n",
    "                    # Format of date required by oanda API\n",
    "                    d1 = str(dates[i]).replace(' ', 'T')\n",
    "                    d2 = str(dates[i + 1]).replace(' ', 'T')\n",
    "\n",
    "                    try:\n",
    "                        d = oanda.get_history(instrument = instrument, start=d1, end=d2,\n",
    "                                                 alignmentTimezone='America/New_York', granularity='H1')\n",
    "                        df = df.append(DataFrame(d['candles']))\n",
    "                    except:\n",
    "                        pass\n",
    "                if len(df) > 0:\n",
    "                    df = df.set_index('time')\n",
    "                    df.index = [pd.datetime.strptime(x,\"%Y-%m-%dT%H:%M:%S.%fZ\") for x in df.index]\n",
    "                    self.pricing = df\n",
    "\n",
    "                    self.returns = np.log(1 + self.pricing.closeAsk.pct_change())[1:]\n",
    "                    store['/Currencies/Oanda/'+base+'/'+quote+'/pricing'] = self.pricing\n",
    "                    store['/Currencies/Oanda/'+base+'/'+quote+'/returns'] = self.returns\n",
    "                    print('Successfully downloaded ',quote,'/',base,' from oanda.')\n",
    "        \n",
    "        self.start = self.pricing.index[0]\n",
    "        self.end = self.pricing.index[-1]\n",
    "        \n",
    "    def __repr__(self):\n",
    "        return \"Currency Pair: \"+self.pair_name\n",
    "               \n",
    "            \n",
    "class Currency_Base:\n",
    "    def __init__(self, base, oanda_key):\n",
    "        source = 'Oanda' # European Central Bank\n",
    "        self.base = base\n",
    "        self._list = []\n",
    "        \n",
    "        time.sleep(2)\n",
    "        oanda = opy.API(environment='practice', access_token=oanda_key)\n",
    "        \n",
    "        # get a list of available instruments from oanda\n",
    "        accts = oanda.get_accounts()\n",
    "        acct_id = accts['accounts'][0]['accountId']\n",
    "        ins = oanda.get_instruments(account_id=acct_id)['instruments']\n",
    "        ins_list = []\n",
    "        for i in ins:\n",
    "            ins_list.append(i['instrument'])\n",
    "        ins_list\n",
    "        \n",
    "        if base != 'EUR' and 'EUR_'+base in ins_list:\n",
    "            try:\n",
    "                self.EUR = Currency_Pair(self.base, 'EUR', oanda)\n",
    "                self._list.append(self.EUR)\n",
    "            except:\n",
    "                pass\n",
    "        if base != 'USD' and 'USD_'+base in ins_list:\n",
    "            try:\n",
    "                self.USD = Currency_Pair(self.base, 'USD', oanda)\n",
    "                self._list.append(self.USD)\n",
    "            except:\n",
    "                pass\n",
    "        if base != 'GBP' and 'GBP_'+base in ins_list:\n",
    "            try:\n",
    "                self.GBP = Currency_Pair(self.base, 'GBP', oanda)\n",
    "                self._list.append(self.GBP)\n",
    "            except:\n",
    "                pass\n",
    "        if base != 'CAD' and 'CAD_'+base in ins_list:\n",
    "            try:\n",
    "                self.CAD = Currency_Pair(self.base, 'CAD', oanda)\n",
    "                self._list.append(self.CAD)\n",
    "            except:\n",
    "                pass\n",
    "        if base != 'AUD' and 'AUD_'+base in ins_list:\n",
    "            try:\n",
    "                self.AUD = Currency_Pair(self.base, 'AUD', oanda)\n",
    "                self._list.append(self.AUD)\n",
    "            except:\n",
    "                pass\n",
    "        if base != 'JPY' and 'JPY_'+base in ins_list:\n",
    "            try:\n",
    "                self.JPY = Currency_Pair(self.base, 'JPY', oanda)\n",
    "                self._list.append(self.JPY)\n",
    "            except:\n",
    "                pass\n",
    "        if base != 'CHF' and 'CHF_'+base in ins_list:\n",
    "            try:\n",
    "                self.CHF = Currency_Pair(self.base, 'CHF', oanda)\n",
    "                self._list.append(self.CHF)\n",
    "            except:\n",
    "                pass\n",
    "        if base != 'NZD' and 'NZD_'+base in ins_list:\n",
    "            try:\n",
    "                self.NZD = Currency_Pair(self.base, 'NZD', oanda)\n",
    "                self._list.append(self.NZD)\n",
    "            except:\n",
    "                pass\n",
    "            \n",
    "    def __repr__(self):\n",
    "        return \"Base Currency: \"+self.base\n",
    "    \n",
    "    def __iter__(self):\n",
    "        self.iter_n = 0\n",
    "        return self\n",
    "\n",
    "    def __next__(self):\n",
    "        if self.iter_n < len(self._list):\n",
    "            i = self.iter_n\n",
    "            self.iter_n += 1\n",
    "            return self._list[i]\n",
    "        \n",
    "        else:\n",
    "            raise StopIteration\n",
    "            \n",
    "class Currencies:\n",
    "    \"\"\"\n",
    "    Holds Currency_Base Objects.\n",
    "    \"\"\"\n",
    "    def __init__(self, oanda_key):\n",
    "        self.currency_list = ['EUR','USD','GBP','CAD','AUD','JPY','CHF','NZD']\n",
    "        self.EUR = Currency_Base('EUR', oanda_key)\n",
    "        self.USD = Currency_Base('USD', oanda_key)\n",
    "        self.GBP = Currency_Base('GBP', oanda_key)\n",
    "        self.CAD = Currency_Base('CAD', oanda_key)\n",
    "        self.AUD = Currency_Base('AUD', oanda_key)\n",
    "        self.JPY = Currency_Base('JPY', oanda_key)\n",
    "        self.CHF = Currency_Base('CHF', oanda_key)\n",
    "        self.NZD = Currency_Base('NZD', oanda_key)\n",
    "        \n",
    "    def __repr__(self):\n",
    "        return \"Currencies Object, Cross Rates for \"+\" \".join(self.currency_list)\n",
    "    \n",
    "    def __iter__(self):\n",
    "        self.iter_n = 0\n",
    "        return self\n",
    "\n",
    "    def __next__(self):\n",
    "        _list = [self.EUR, self.USD, self.GBP, self.CAD,\n",
    "                 self.AUD, self.JPY, self.CHF, self.NZD]\n",
    "        if self.iter_n < len(_list):\n",
    "            i = self.iter_n\n",
    "            self.iter_n += 1\n",
    "            return _list[i]\n",
    "        \n",
    "        else:\n",
    "            raise StopIteration\n",
    "    \n",
    "class Data:\n",
    "    \"\"\"\n",
    "    Data object holds Currencies and Equities objects.\n",
    "    \"\"\"\n",
    "    def __init__(self, oanda_key):\n",
    "        self.currencies = Currencies(oanda_key)\n",
    "        self.equities = Equities()\n",
    "        \n",
    "    def __repr__(self):\n",
    "        return \"Data Object, holds Equities and Currencies Objects.\""
   ]
  },
  {
   "cell_type": "markdown",
   "metadata": {},
   "source": [
    "Here I will initialize my new data object with which I will interact to get the data I will need. I there is other data that I will require, I will add it to the Data class."
   ]
  },
  {
   "cell_type": "code",
   "execution_count": 4,
   "metadata": {
    "collapsed": true
   },
   "outputs": [],
   "source": [
    "# get my oada api key, I don't want to show the key so I'll read it in.\n",
    "f = open('/Users/kennypotts/Desktop/Data/oanda_api_key.txt', 'r')\n",
    "key = f.read()\n",
    "key = key.strip()"
   ]
  },
  {
   "cell_type": "code",
   "execution_count": 5,
   "metadata": {
    "collapsed": false
   },
   "outputs": [
    {
     "name": "stdout",
     "output_type": "stream",
     "text": [
      "CPU times: user 1.24 s, sys: 220 ms, total: 1.46 s\n",
      "Wall time: 3min 3s\n"
     ]
    }
   ],
   "source": [
    "%%time\n",
    "data = Data(key)"
   ]
  },
  {
   "cell_type": "code",
   "execution_count": 58,
   "metadata": {
    "collapsed": true
   },
   "outputs": [],
   "source": [
    "style.use('seaborn-notebook')"
   ]
  },
  {
   "cell_type": "code",
   "execution_count": 14,
   "metadata": {
    "collapsed": false
   },
   "outputs": [
    {
     "data": {
      "image/png": "[encoded data removed]",
      "text/plain": [
       "<matplotlib.figure.Figure at 0x126cb0cc0>"
      ]
     },
     "metadata": {},
     "output_type": "display_data"
    }
   ],
   "source": [
    "SPY = data.equities.ETFs['SPY']\n",
    "SPY.returns.hist(bins=50, normed='true')\n",
    "plt.xlabel('Reutrns')\n",
    "plt.ylabel('Frequency')\n",
    "plt.title('{0} Daily Returns from {1} to {2}'.format(SPY.symbol, SPY.start.date(), SPY.end.date()));"
   ]
  },
  {
   "cell_type": "markdown",
   "metadata": {},
   "source": [
    "### Adjusting Time Frames\n",
    "\n",
    "All of the equities data in the Data object have a daily frequency. The currency data, however, have an hourly frequency. Pandas DataFrames have a great built in function called `resample` that can return a sample of the data at a time frame larger than that of the underlying data. The pandas datetime object allows many different time frames including the following:\n",
    "\n",
    " - B - business day frequency\n",
    " - D - calendar day frequency\n",
    " - W - weekly frequency\n",
    " - M - month end frequency\n",
    " - SM - semi-month end frequency (15th and end of month)\n",
    " - A - year end frequency\n",
    " - H - hourly frequency\n",
    " - T - minutely frequency\n",
    " - S - secondly frequency"
   ]
  },
  {
   "cell_type": "code",
   "execution_count": 13,
   "metadata": {
    "collapsed": true
   },
   "outputs": [],
   "source": [
    "pd.DataFrame.resample?"
   ]
  },
  {
   "cell_type": "code",
   "execution_count": 37,
   "metadata": {
    "collapsed": false
   },
   "outputs": [
    {
     "data": {
      "text/html": [
       "<div>\n",
       "<table border=\"1\" class=\"dataframe\">\n",
       "  <thead>\n",
       "    <tr style=\"text-align: right;\">\n",
       "      <th></th>\n",
       "      <th>closeAsk</th>\n",
       "      <th>closeBid</th>\n",
       "      <th>complete</th>\n",
       "      <th>highAsk</th>\n",
       "      <th>highBid</th>\n",
       "      <th>lowAsk</th>\n",
       "      <th>lowBid</th>\n",
       "      <th>openAsk</th>\n",
       "      <th>openBid</th>\n",
       "      <th>volume</th>\n",
       "    </tr>\n",
       "  </thead>\n",
       "  <tbody>\n",
       "    <tr>\n",
       "      <th>2002-05-31</th>\n",
       "      <td>116.06</td>\n",
       "      <td>115.96</td>\n",
       "      <td>1.0</td>\n",
       "      <td>116.06</td>\n",
       "      <td>115.96</td>\n",
       "      <td>116.06</td>\n",
       "      <td>115.96</td>\n",
       "      <td>116.06</td>\n",
       "      <td>115.96</td>\n",
       "      <td>1.0</td>\n",
       "    </tr>\n",
       "    <tr>\n",
       "      <th>2002-06-03</th>\n",
       "      <td>116.33</td>\n",
       "      <td>116.29</td>\n",
       "      <td>1.0</td>\n",
       "      <td>116.33</td>\n",
       "      <td>116.29</td>\n",
       "      <td>116.33</td>\n",
       "      <td>116.29</td>\n",
       "      <td>116.33</td>\n",
       "      <td>116.29</td>\n",
       "      <td>1.0</td>\n",
       "    </tr>\n",
       "    <tr>\n",
       "      <th>2002-06-04</th>\n",
       "      <td>116.64</td>\n",
       "      <td>116.60</td>\n",
       "      <td>1.0</td>\n",
       "      <td>116.64</td>\n",
       "      <td>116.60</td>\n",
       "      <td>116.64</td>\n",
       "      <td>116.60</td>\n",
       "      <td>116.64</td>\n",
       "      <td>116.60</td>\n",
       "      <td>1.0</td>\n",
       "    </tr>\n",
       "    <tr>\n",
       "      <th>2002-06-05</th>\n",
       "      <td>116.88</td>\n",
       "      <td>116.84</td>\n",
       "      <td>1.0</td>\n",
       "      <td>116.88</td>\n",
       "      <td>116.84</td>\n",
       "      <td>116.88</td>\n",
       "      <td>116.84</td>\n",
       "      <td>116.88</td>\n",
       "      <td>116.84</td>\n",
       "      <td>1.0</td>\n",
       "    </tr>\n",
       "    <tr>\n",
       "      <th>2002-06-06</th>\n",
       "      <td>117.62</td>\n",
       "      <td>117.58</td>\n",
       "      <td>1.0</td>\n",
       "      <td>117.62</td>\n",
       "      <td>117.58</td>\n",
       "      <td>117.62</td>\n",
       "      <td>117.58</td>\n",
       "      <td>117.62</td>\n",
       "      <td>117.58</td>\n",
       "      <td>1.0</td>\n",
       "    </tr>\n",
       "  </tbody>\n",
       "</table>\n",
       "</div>"
      ],
      "text/plain": [
       "            closeAsk  closeBid  complete  highAsk  highBid  lowAsk  lowBid  \\\n",
       "2002-05-31    116.06    115.96       1.0   116.06   115.96  116.06  115.96   \n",
       "2002-06-03    116.33    116.29       1.0   116.33   116.29  116.33  116.29   \n",
       "2002-06-04    116.64    116.60       1.0   116.64   116.60  116.64  116.60   \n",
       "2002-06-05    116.88    116.84       1.0   116.88   116.84  116.88  116.84   \n",
       "2002-06-06    117.62    117.58       1.0   117.62   117.58  117.62  117.58   \n",
       "\n",
       "            openAsk  openBid  volume  \n",
       "2002-05-31   116.06   115.96     1.0  \n",
       "2002-06-03   116.33   116.29     1.0  \n",
       "2002-06-04   116.64   116.60     1.0  \n",
       "2002-06-05   116.88   116.84     1.0  \n",
       "2002-06-06   117.62   117.58     1.0  "
      ]
     },
     "execution_count": 37,
     "metadata": {},
     "output_type": "execute_result"
    }
   ],
   "source": [
    "eur_jpy = data.currencies.JPY.EUR\n",
    "# B for business days\n",
    "eur_jpy.pricing.resample('B').first().head()"
   ]
  },
  {
   "cell_type": "code",
   "execution_count": 59,
   "metadata": {
    "collapsed": false
   },
   "outputs": [
    {
     "data": {
      "image/png": "[encoded data removed]",
      "text/plain": [
       "<matplotlib.figure.Figure at 0x12aee8dd8>"
      ]
     },
     "metadata": {},
     "output_type": "display_data"
    }
   ],
   "source": [
    "ej_daily_returns = np.log(1 + eur_jpy.pricing.resample('B').first().closeAsk.pct_change()).dropna()\n",
    "ej_weekly_returns = np.log(1 + eur_jpy.pricing.resample('W').first().closeAsk.pct_change()).dropna()\n",
    "ej_monthly_returns = np.log(1 + eur_jpy.pricing.resample('M').first().closeAsk.pct_change()).dropna()\n",
    "\n",
    "\n",
    "\n",
    "plt.hist(ej_daily_returns, bins=50, alpha=0.5, normed=True, stacked=True, label='Daily')\n",
    "plt.hist(ej_weekly_returns, bins=50, alpha=0.5, normed=True,stacked=True, label='Weekly')\n",
    "plt.hist(ej_monthly_returns, bins=50, alpha=0.5, normed=True, stacked=True, label='Monthly')\n",
    "plt.ylabel('Frequency')\n",
    "plt.xlabel('Returns')\n",
    "plt.title('Returns of '+eur_jpy.pair_name)\n",
    "plt.legend();"
   ]
  },
  {
   "cell_type": "code",
   "execution_count": 62,
   "metadata": {
    "collapsed": true
   },
   "outputs": [],
   "source": [
    "DataFrame.resample?"
   ]
  },
  {
   "cell_type": "code",
   "execution_count": 66,
   "metadata": {
    "collapsed": false
   },
   "outputs": [
    {
     "data": {
      "text/html": [
       "<div>\n",
       "<table border=\"1\" class=\"dataframe\">\n",
       "  <thead>\n",
       "    <tr style=\"text-align: right;\">\n",
       "      <th></th>\n",
       "      <th>open</th>\n",
       "      <th>high</th>\n",
       "      <th>low</th>\n",
       "      <th>close</th>\n",
       "    </tr>\n",
       "  </thead>\n",
       "  <tbody>\n",
       "    <tr>\n",
       "      <th>2016-11-23</th>\n",
       "      <td>118.087</td>\n",
       "      <td>119.002</td>\n",
       "      <td>117.777</td>\n",
       "      <td>118.672</td>\n",
       "    </tr>\n",
       "    <tr>\n",
       "      <th>2016-11-24</th>\n",
       "      <td>118.555</td>\n",
       "      <td>119.710</td>\n",
       "      <td>118.555</td>\n",
       "      <td>119.632</td>\n",
       "    </tr>\n",
       "    <tr>\n",
       "      <th>2016-11-25</th>\n",
       "      <td>120.043</td>\n",
       "      <td>120.147</td>\n",
       "      <td>119.468</td>\n",
       "      <td>119.531</td>\n",
       "    </tr>\n",
       "    <tr>\n",
       "      <th>2016-11-28</th>\n",
       "      <td>119.408</td>\n",
       "      <td>119.476</td>\n",
       "      <td>118.597</td>\n",
       "      <td>118.597</td>\n",
       "    </tr>\n",
       "    <tr>\n",
       "      <th>2016-11-29</th>\n",
       "      <td>118.808</td>\n",
       "      <td>119.902</td>\n",
       "      <td>118.676</td>\n",
       "      <td>119.765</td>\n",
       "    </tr>\n",
       "  </tbody>\n",
       "</table>\n",
       "</div>"
      ],
      "text/plain": [
       "               open     high      low    close\n",
       "2016-11-23  118.087  119.002  117.777  118.672\n",
       "2016-11-24  118.555  119.710  118.555  119.632\n",
       "2016-11-25  120.043  120.147  119.468  119.531\n",
       "2016-11-28  119.408  119.476  118.597  118.597\n",
       "2016-11-29  118.808  119.902  118.676  119.765"
      ]
     },
     "execution_count": 66,
     "metadata": {},
     "output_type": "execute_result"
    }
   ],
   "source": [
    "eur_jpy.pricing.closeAsk.resample('B').ohlc().tail()"
   ]
  },
  {
   "cell_type": "code",
   "execution_count": 72,
   "metadata": {
    "collapsed": false
   },
   "outputs": [
    {
     "data": {
      "text/html": [
       "<div>\n",
       "<table border=\"1\" class=\"dataframe\">\n",
       "  <thead>\n",
       "    <tr style=\"text-align: right;\">\n",
       "      <th></th>\n",
       "      <th>open</th>\n",
       "      <th>high</th>\n",
       "      <th>low</th>\n",
       "      <th>close</th>\n",
       "    </tr>\n",
       "  </thead>\n",
       "  <tbody>\n",
       "    <tr>\n",
       "      <th>2002-05-31</th>\n",
       "      <td>116.06</td>\n",
       "      <td>116.06</td>\n",
       "      <td>115.98</td>\n",
       "      <td>115.98</td>\n",
       "    </tr>\n",
       "    <tr>\n",
       "      <th>2002-06-03</th>\n",
       "      <td>116.33</td>\n",
       "      <td>116.33</td>\n",
       "      <td>116.33</td>\n",
       "      <td>116.33</td>\n",
       "    </tr>\n",
       "    <tr>\n",
       "      <th>2002-06-04</th>\n",
       "      <td>116.64</td>\n",
       "      <td>116.64</td>\n",
       "      <td>116.64</td>\n",
       "      <td>116.64</td>\n",
       "    </tr>\n",
       "    <tr>\n",
       "      <th>2002-06-05</th>\n",
       "      <td>116.88</td>\n",
       "      <td>116.88</td>\n",
       "      <td>116.88</td>\n",
       "      <td>116.88</td>\n",
       "    </tr>\n",
       "    <tr>\n",
       "      <th>2002-06-06</th>\n",
       "      <td>117.62</td>\n",
       "      <td>117.62</td>\n",
       "      <td>117.62</td>\n",
       "      <td>117.62</td>\n",
       "    </tr>\n",
       "    <tr>\n",
       "      <th>2002-06-07</th>\n",
       "      <td>117.46</td>\n",
       "      <td>117.46</td>\n",
       "      <td>117.39</td>\n",
       "      <td>117.39</td>\n",
       "    </tr>\n",
       "    <tr>\n",
       "      <th>2002-06-10</th>\n",
       "      <td>117.85</td>\n",
       "      <td>117.85</td>\n",
       "      <td>117.85</td>\n",
       "      <td>117.85</td>\n",
       "    </tr>\n",
       "    <tr>\n",
       "      <th>2002-06-11</th>\n",
       "      <td>118.84</td>\n",
       "      <td>118.84</td>\n",
       "      <td>118.84</td>\n",
       "      <td>118.84</td>\n",
       "    </tr>\n",
       "    <tr>\n",
       "      <th>2002-06-12</th>\n",
       "      <td>118.67</td>\n",
       "      <td>118.67</td>\n",
       "      <td>118.67</td>\n",
       "      <td>118.67</td>\n",
       "    </tr>\n",
       "    <tr>\n",
       "      <th>2002-06-13</th>\n",
       "      <td>117.85</td>\n",
       "      <td>117.85</td>\n",
       "      <td>117.85</td>\n",
       "      <td>117.85</td>\n",
       "    </tr>\n",
       "    <tr>\n",
       "      <th>2002-06-14</th>\n",
       "      <td>117.45</td>\n",
       "      <td>117.48</td>\n",
       "      <td>117.45</td>\n",
       "      <td>117.48</td>\n",
       "    </tr>\n",
       "    <tr>\n",
       "      <th>2002-06-17</th>\n",
       "      <td>117.46</td>\n",
       "      <td>117.46</td>\n",
       "      <td>117.46</td>\n",
       "      <td>117.46</td>\n",
       "    </tr>\n",
       "    <tr>\n",
       "      <th>2002-06-18</th>\n",
       "      <td>118.42</td>\n",
       "      <td>118.42</td>\n",
       "      <td>118.42</td>\n",
       "      <td>118.42</td>\n",
       "    </tr>\n",
       "    <tr>\n",
       "      <th>2002-06-19</th>\n",
       "      <td>118.65</td>\n",
       "      <td>118.65</td>\n",
       "      <td>118.65</td>\n",
       "      <td>118.65</td>\n",
       "    </tr>\n",
       "    <tr>\n",
       "      <th>2002-06-20</th>\n",
       "      <td>119.19</td>\n",
       "      <td>119.19</td>\n",
       "      <td>119.19</td>\n",
       "      <td>119.19</td>\n",
       "    </tr>\n",
       "    <tr>\n",
       "      <th>2002-06-21</th>\n",
       "      <td>117.93</td>\n",
       "      <td>117.93</td>\n",
       "      <td>117.88</td>\n",
       "      <td>117.88</td>\n",
       "    </tr>\n",
       "    <tr>\n",
       "      <th>2002-06-24</th>\n",
       "      <td>118.23</td>\n",
       "      <td>118.23</td>\n",
       "      <td>118.23</td>\n",
       "      <td>118.23</td>\n",
       "    </tr>\n",
       "    <tr>\n",
       "      <th>2002-06-25</th>\n",
       "      <td>118.85</td>\n",
       "      <td>118.85</td>\n",
       "      <td>118.85</td>\n",
       "      <td>118.85</td>\n",
       "    </tr>\n",
       "    <tr>\n",
       "      <th>2002-06-26</th>\n",
       "      <td>117.72</td>\n",
       "      <td>117.72</td>\n",
       "      <td>117.72</td>\n",
       "      <td>117.72</td>\n",
       "    </tr>\n",
       "    <tr>\n",
       "      <th>2002-06-27</th>\n",
       "      <td>118.21</td>\n",
       "      <td>118.21</td>\n",
       "      <td>118.21</td>\n",
       "      <td>118.21</td>\n",
       "    </tr>\n",
       "    <tr>\n",
       "      <th>2002-06-28</th>\n",
       "      <td>118.55</td>\n",
       "      <td>118.73</td>\n",
       "      <td>118.55</td>\n",
       "      <td>118.73</td>\n",
       "    </tr>\n",
       "    <tr>\n",
       "      <th>2002-07-01</th>\n",
       "      <td>118.62</td>\n",
       "      <td>118.62</td>\n",
       "      <td>118.62</td>\n",
       "      <td>118.62</td>\n",
       "    </tr>\n",
       "    <tr>\n",
       "      <th>2002-07-02</th>\n",
       "      <td>118.29</td>\n",
       "      <td>118.29</td>\n",
       "      <td>118.29</td>\n",
       "      <td>118.29</td>\n",
       "    </tr>\n",
       "    <tr>\n",
       "      <th>2002-07-03</th>\n",
       "      <td>117.49</td>\n",
       "      <td>117.49</td>\n",
       "      <td>117.49</td>\n",
       "      <td>117.49</td>\n",
       "    </tr>\n",
       "    <tr>\n",
       "      <th>2002-07-04</th>\n",
       "      <td>117.51</td>\n",
       "      <td>117.51</td>\n",
       "      <td>117.51</td>\n",
       "      <td>117.51</td>\n",
       "    </tr>\n",
       "  </tbody>\n",
       "</table>\n",
       "</div>"
      ],
      "text/plain": [
       "              open    high     low   close\n",
       "2002-05-31  116.06  116.06  115.98  115.98\n",
       "2002-06-03  116.33  116.33  116.33  116.33\n",
       "2002-06-04  116.64  116.64  116.64  116.64\n",
       "2002-06-05  116.88  116.88  116.88  116.88\n",
       "2002-06-06  117.62  117.62  117.62  117.62\n",
       "2002-06-07  117.46  117.46  117.39  117.39\n",
       "2002-06-10  117.85  117.85  117.85  117.85\n",
       "2002-06-11  118.84  118.84  118.84  118.84\n",
       "2002-06-12  118.67  118.67  118.67  118.67\n",
       "2002-06-13  117.85  117.85  117.85  117.85\n",
       "2002-06-14  117.45  117.48  117.45  117.48\n",
       "2002-06-17  117.46  117.46  117.46  117.46\n",
       "2002-06-18  118.42  118.42  118.42  118.42\n",
       "2002-06-19  118.65  118.65  118.65  118.65\n",
       "2002-06-20  119.19  119.19  119.19  119.19\n",
       "2002-06-21  117.93  117.93  117.88  117.88\n",
       "2002-06-24  118.23  118.23  118.23  118.23\n",
       "2002-06-25  118.85  118.85  118.85  118.85\n",
       "2002-06-26  117.72  117.72  117.72  117.72\n",
       "2002-06-27  118.21  118.21  118.21  118.21\n",
       "2002-06-28  118.55  118.73  118.55  118.73\n",
       "2002-07-01  118.62  118.62  118.62  118.62\n",
       "2002-07-02  118.29  118.29  118.29  118.29\n",
       "2002-07-03  117.49  117.49  117.49  117.49\n",
       "2002-07-04  117.51  117.51  117.51  117.51"
      ]
     },
     "execution_count": 72,
     "metadata": {},
     "output_type": "execute_result"
    }
   ],
   "source": [
    "eur_jpy.pricing.closeAsk.resample('B').ohlc().head(25)"
   ]
  },
  {
   "cell_type": "code",
   "execution_count": 18,
   "metadata": {
    "collapsed": false
   },
   "outputs": [
    {
     "name": "stdout",
     "output_type": "stream",
     "text": [
      "Available Currency Pairs: \n",
      "EUR/USD, GBP/USD, AUD/USD, NZD/USD, EUR/GBP, EUR/CAD, USD/CAD, GBP/CAD, AUD/CAD, NZD/CAD, EUR/AUD, GBP/AUD, EUR/JPY, USD/JPY, GBP/JPY, CAD/JPY, AUD/JPY, CHF/JPY, NZD/JPY, EUR/CHF, USD/CHF, GBP/CHF, CAD/CHF, AUD/CHF, NZD/CHF, EUR/NZD, GBP/NZD, AUD/NZD, "
     ]
    }
   ],
   "source": [
    "print('Available Currency Pairs: ')\n",
    "for currnecy in data.currencies:\n",
    "    for pair in currnecy:\n",
    "        print(pair.pair_name, end=', ')"
   ]
  },
  {
   "cell_type": "markdown",
   "metadata": {
    "collapsed": true
   },
   "source": [
    "## Back to the Analysis\n",
    "\n",
    "Now that I have easy access to a lot of data, I will resume the analysis of market returns. At the end of Part 1 I left of on the Jarque-Bera test with a couple examples. Now that I have a more efficient Data object to work with, I will many tests for many assets."
   ]
  },
  {
   "cell_type": "code",
   "execution_count": 26,
   "metadata": {
    "collapsed": false
   },
   "outputs": [],
   "source": [
    "def jarque_bera_equities(data, n=60, cutoff=0.05, seed=False):\n",
    "    \"\"\"\n",
    "    Performs Jarque-Bera test on the returns of n equities.\n",
    "    \n",
    "    Selects n random equities from data and performs JB test.\n",
    "    Returns number of rejections, rejection percent, scores, p-values.\n",
    "    \"\"\"\n",
    "    if seed:\n",
    "        np.random.seed(seed)\n",
    "    num_rejections = 0\n",
    "    scores = np.zeros(n)\n",
    "    p_values = np.ones(n)\n",
    "    assets = data.equities.random_selection(size=n)\n",
    "    for i in range(len(assets)):\n",
    "        scores[i], p_values[i] = stats.jarque_bera(assets[i].returns)\n",
    "        if p_values[i] <= cutoff:\n",
    "            num_rejections += 1\n",
    "    rejection_pct = 100 * float(num_rejections) / float(n)\n",
    "    \n",
    "    return num_rejections, rejection_pct, scores, p_values"
   ]
  },
  {
   "cell_type": "code",
   "execution_count": 27,
   "metadata": {
    "collapsed": false
   },
   "outputs": [],
   "source": [
    "num_rejections, rejection_pct, scores, p_values = jarque_bera_equities(data, n=50)"
   ]
  },
  {
   "cell_type": "code",
   "execution_count": 28,
   "metadata": {
    "collapsed": false
   },
   "outputs": [
    {
     "name": "stdout",
     "output_type": "stream",
     "text": [
      "percentage of rejections:  98.0\n"
     ]
    }
   ],
   "source": [
    "print('percentage of rejections: ',rejection_pct)"
   ]
  },
  {
   "cell_type": "code",
   "execution_count": 30,
   "metadata": {
    "collapsed": false
   },
   "outputs": [
    {
     "name": "stderr",
     "output_type": "stream",
     "text": [
      "/Users/kennypotts/anaconda/envs/python3/lib/python3.5/site-packages/tables/path.py:100: NaturalNameWarning: object name is not a valid Python identifier: 'CIG.C'; it does not match the pattern ``^[a-zA-Z_][a-zA-Z0-9_]*$``; you will not be able to use natural naming to access this object; using ``getattr()`` will still work, though\n",
      "  NaturalNameWarning)\n"
     ]
    },
    {
     "name": "stdout",
     "output_type": "stream",
     "text": [
      "percentage of rejections:  99.33333333333333\n"
     ]
    }
   ],
   "source": [
    "num_rejections, rejection_pct, scores, p_values = jarque_bera_equities(data, n=150)\n",
    "print('percentage of rejections: ',rejection_pct)"
   ]
  },
  {
   "cell_type": "code",
   "execution_count": 31,
   "metadata": {
    "collapsed": false
   },
   "outputs": [
    {
     "data": {
      "text/plain": [
       "149"
      ]
     },
     "execution_count": 31,
     "metadata": {},
     "output_type": "execute_result"
    }
   ],
   "source": [
    "num_rejections"
   ]
  },
  {
   "cell_type": "markdown",
   "metadata": {},
   "source": [
    "Out of the 150 tested equities, 149 of them failed the Jarque-Bera test. Let's take a look at currencies."
   ]
  },
  {
   "cell_type": "code",
   "execution_count": 38,
   "metadata": {
    "collapsed": true
   },
   "outputs": [],
   "source": [
    "def jarque_bera_currencies(data, cutoff=0.05, seed=False):\n",
    "    \"\"\"\n",
    "    Performs Jarque-Bera test on the returns of n equities.\n",
    "    \n",
    "    Selects n random equities from data and performs JB test.\n",
    "    Returns number of rejections, rejection percent, scores, p-values.\n",
    "    \"\"\"\n",
    "    if seed:\n",
    "        np.random.seed(seed)\n",
    "    num_rejections = 0\n",
    "    scores = []\n",
    "    p_values = []\n",
    "    for base in data.currencies:\n",
    "        for pair in base:\n",
    "            results = stats.jarque_bera(pair.returns)\n",
    "            scores.append(results[0])\n",
    "            p_values.append(results[1])\n",
    "            if results[1] <= cutoff:\n",
    "                num_rejections += 1\n",
    "    rejection_pct = 100 * float(num_rejections) / float(len(scores))\n",
    "    \n",
    "    return num_rejections, rejection_pct, scores, p_values"
   ]
  },
  {
   "cell_type": "code",
   "execution_count": 39,
   "metadata": {
    "collapsed": false
   },
   "outputs": [
    {
     "name": "stdout",
     "output_type": "stream",
     "text": [
      "percentage of rejections:  100.0\n",
      "number of rejections:  49\n"
     ]
    }
   ],
   "source": [
    "num_rejections, rejection_pct, scores, p_values = jarque_bera_currencies(data)\n",
    "print('percentage of rejections: ',rejection_pct)\n",
    "print('number of rejections: ',num_rejections)"
   ]
  },
  {
   "cell_type": "markdown",
   "metadata": {},
   "source": [
    "## Jarque-Bera Conclusions\n",
    "\n",
    "From the Jarque-Bera test results it seems clear that equity and currency market returns are not normally distributed. The next question is whether we can model them with something else, say another type of distribution, or maybe it isn't even safe to model returns in this way."
   ]
  },
  {
   "cell_type": "markdown",
   "metadata": {
    "collapsed": true
   },
   "source": [
    "## A Visual Comparison"
   ]
  },
  {
   "cell_type": "markdown",
   "metadata": {},
   "source": [
    "So far I have only used histograms and statistical test to show that markets are non-normal. Histograms, however, make it hard to view the discrepancies between a normal distribution and empirical data. For this, there is a better option\n",
    "\n",
    "### Q-Q Plots\n",
    "\n",
    "The Q-Q plot, or [quantile-quantile plot](https://en.wikipedia.org/wiki/Q%E2%80%93Q_plot) plot the quantiles of two distributions against one another. In my case one of the distributions is observed data. If the two distributions are a close match, they will have a linear relationsip between quantiles and therefor show up as a straight line on the plot. From a Q-Q plot it is easy to see the differences in shape of the distributions. If the sample distribution is leptokurtic, then plotted against the normal distribution it will curve down going left and curve up going right, showing a greateer frequency of extreme events.\n",
    "\n",
    "References:\n",
    "\n",
    " 1. [Quantile-Quantile Plots, Jones](http://people.reed.edu/~jones/Courses/P14.pdf)\n",
    " 2. [Kemp, Malcolm H. D. Extreme Events: Robust Portfolio Construction in the Presence of Fat Tails. Hoboken, NJ: Wiley, 2011. Print.](https://www.overdrive.com/media/661986/extreme-events)"
   ]
  },
  {
   "cell_type": "markdown",
   "metadata": {},
   "source": [
    "I will first show what we would expect to see on the Q-Q plot if a sample was taken from a normally distributed random variable. I will create synthetic data."
   ]
  },
  {
   "cell_type": "code",
   "execution_count": 168,
   "metadata": {
    "collapsed": false
   },
   "outputs": [
    {
     "data": {
      "image/png": "[encoded data removed]",
      "text/plain": [
       "<matplotlib.figure.Figure at 0x11a8caf98>"
      ]
     },
     "metadata": {},
     "output_type": "display_data"
    }
   ],
   "source": [
    "# synthetic normal data\n",
    "x = np.random.normal(size=1000)\n",
    "\n",
    "# plot Q-Q\n",
    "fig, ax1 = plt.subplots()\n",
    "sm.qqplot(x, fit=True, line='45', ax=ax1)\n",
    "for l in ax1.lines:\n",
    "    l.set_alpha(.8)\n",
    "plt.title('Normal Random Variable vs. Normal Distribution');"
   ]
  },
  {
   "cell_type": "markdown",
   "metadata": {},
   "source": [
    "Let's then compare this to the Q-Q plot for the SPY returns."
   ]
  },
  {
   "cell_type": "code",
   "execution_count": 171,
   "metadata": {
    "collapsed": false
   },
   "outputs": [
    {
     "data": {
      "image/png": "[encoded data removed]",
      "text/plain": [
       "<matplotlib.figure.Figure at 0x117052710>"
      ]
     },
     "metadata": {},
     "output_type": "display_data"
    }
   ],
   "source": [
    "SPY = data.equities.ETFs['SPY']\n",
    "\n",
    "# plot Q-Q\n",
    "fig, ax1 = plt.subplots()\n",
    "sm.qqplot(SPY.returns, fit=True, line='45', ax=ax1)\n",
    "for l in ax1.lines:\n",
    "    l.set_alpha(.8)\n",
    "plt.title('Normal Random Variable vs. Normal Distribution');"
   ]
  },
  {
   "cell_type": "markdown",
   "metadata": {},
   "source": [
    "This shape is indicative of a fat tail distribution relative to the normal distribution. The distribution for SPY returns shows 8$\\sigma$ - 9$\\sigma$ data points that corresond to 3$\\sigma$ or 4$\\sigma$ data points from a normal distribution."
   ]
  },
  {
   "cell_type": "code",
   "execution_count": null,
   "metadata": {
    "collapsed": true
   },
   "outputs": [],
   "source": []
  }
 ],
 "metadata": {
  "anaconda-cloud": {},
  "kernelspec": {
   "display_name": "Python [conda env:python3]",
   "language": "python",
   "name": "conda-env-python3-py"
  },
  "language_info": {
   "codemirror_mode": {
    "name": "ipython",
    "version": 3
   },
   "file_extension": ".py",
   "mimetype": "text/x-python",
   "name": "python",
   "nbconvert_exporter": "python",
   "pygments_lexer": "ipython3",
   "version": "3.5.2"
  }
 },
 "nbformat": 4,
 "nbformat_minor": 1
}
