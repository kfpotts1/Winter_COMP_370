{
 "cells": [
  {
   "cell_type": "markdown",
   "metadata": {},
   "source": [
    "# Notes for Winter comp proj\n",
    "\n",
    "check distributions graphically\n",
    " - plot normally against other distributions\n",
    " - [q-q plots](https://en.wikipedia.org/wiki/Q%E2%80%93Q_plot)\n",
    "and statistically with descriptive\n",
    " - means, stds, variances, skewness, kurtosis, leptokurtosis\n",
    "and statistically with inferential tests\n",
    " - [jarque bera test](https://en.wikipedia.org/wiki/Jarque%E2%80%93Bera_test)\n",
    " - ks-test, Kolmogorov–Smirnov test\n",
    "     - [ks-test wiki](https://en.wikipedia.org/wiki/Kolmogorov%E2%80%93Smirnov_test)\n",
    "     \n",
    "[Here](http://www.csd.uoc.gr/~hy439/labs/lab2_fitting_probability_distributions.pdf) is a resource on fitting data to probability distributions. They suggest:\n",
    " - q-q plots\n",
    "     - [python implementation example](http://stackoverflow.com/questions/13865596/quantile-quantile-plot-using-scipy)\n",
    "     - [statsmodels qqplot](http://statsmodels.sourceforge.net/devel/generated/statsmodels.graphics.gofplots.qqplot.html)\n",
    " - simulation envelop\n",
    " - Kullback-Leibler divergence\n",
    " \n",
    "possible likley distributions:\n",
    " - t-distribution\n",
    "     - 3-4 degrees of freedom\n",
    " - laplace distribution\n",
    " \n",
    "tests for [autocorrelation](https://en.wikipedia.org/wiki/Autocorrelation)?\n",
    " - Durbin–Watson statistic\n",
    "     - [DW - wiki](https://en.wikipedia.org/wiki/Durbin%E2%80%93Watson_statistic)\n",
    "     - similar test - [Breusch–Godfrey test](https://en.wikipedia.org/wiki/Breusch%E2%80%93Godfrey_test) and [Ljung–Box test](https://en.wikipedia.org/wiki/Ljung%E2%80%93Box_test)\n",
    " - linear regressions\n",
    " - multiple regressions\n",
    " - Newey-West Correction\n",
    "     - [wiki](https://en.wikipedia.org/wiki/Newey%E2%80%93West_estimator)\n",
    "     - [Quant StackExchange](http://quant.stackexchange.com/questions/7351/how-to-use-newey-west-covariance-corrector)\n",
    "     - [Financial SE estimators](http://www.haas.berkeley.edu/groups/finance/standarderror.pdf)\n",
    "     - autocorrelation would suggest trend-following with tight risk management would be a good strategy\n",
    "     \n",
    "Possible Black swan events:\n",
    " - EUR/CHF unpegging\n",
    " - Brexit\n",
    " - GBP/USD flash crash oct 2016\n",
    " - Equity Aquisitions (LinkedIn Feb 2016) \n",
    " - 2007-2008 recession\n",
    " - dot-com crash 200-2001\n",
    " - Just general trends that persist longer than normal\n",
    " - autocorrelations (trends)\n",
    " \n",
    "High volatility shocks in general - May be implemented in algorithms, not notebook\n",
    " - protection\n",
    " - stop losses\n",
    " - rolling volatility/std pct change distribution\n",
    " - ATR pct change distribution\n",
    " - [ATR](http://stockcharts.com/school/doku.php?id=chart_school:technical_indicators:average_true_range_atr) calculation\n",
    "  - perhaps better than std because includes intraday shocks\n",
    "\n",
    " \n",
    " "
   ]
  },
  {
   "cell_type": "code",
   "execution_count": 1,
   "metadata": {
    "collapsed": true
   },
   "outputs": [],
   "source": [
    "from scipy import stats"
   ]
  },
  {
   "cell_type": "code",
   "execution_count": 2,
   "metadata": {
    "collapsed": true
   },
   "outputs": [],
   "source": []
  }
 ],
 "metadata": {
  "anaconda-cloud": {},
  "kernelspec": {
   "display_name": "Python [conda env:python3]",
   "language": "python",
   "name": "conda-env-python3-py"
  },
  "language_info": {
   "codemirror_mode": {
    "name": "ipython",
    "version": 3
   },
   "file_extension": ".py",
   "mimetype": "text/x-python",
   "name": "python",
   "nbconvert_exporter": "python",
   "pygments_lexer": "ipython3",
   "version": "3.5.2"
  }
 },
 "nbformat": 4,
 "nbformat_minor": 1
}
