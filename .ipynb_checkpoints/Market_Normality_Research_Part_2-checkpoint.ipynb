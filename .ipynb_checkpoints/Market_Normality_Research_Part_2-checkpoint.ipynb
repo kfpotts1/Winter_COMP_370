{
 "cells": [
  {
   "cell_type": "markdown",
   "metadata": {},
   "source": [
    "# Analysis of Market Returns: Part 2\n",
    "\n",
    "Here I will continue my analysis the distribution of market returns. From the previous noebook"
   ]
  },
  {
   "cell_type": "code",
   "execution_count": 97,
   "metadata": {
    "collapsed": false
   },
   "outputs": [],
   "source": [
    "# Importing the libraries I anticipate using\n",
    "import pandas as pd\n",
    "from pandas import DataFrame, Series\n",
    "import numpy as np\n",
    "import pandas_datareader.data as web\n",
    "import statsmodels\n",
    "import statsmodels.api as sm\n",
    "import matplotlib.pyplot as plt\n",
    "from matplotlib import style\n",
    "import seaborn as sns\n",
    "import datetime\n",
    "import scipy.stats as stats\n",
    "import quandl\n",
    "\n",
    "%matplotlib inline"
   ]
  },
  {
   "cell_type": "markdown",
   "metadata": {},
   "source": [
    "## More Data\n",
    "\n",
    "To make the remaining work easier, I am going to design a `Data` class to interact with get get and store the data that I will be using. I will also be introducing currency data from the European Central Bank data on Quandl."
   ]
  },
  {
   "cell_type": "code",
   "execution_count": 12,
   "metadata": {
    "collapsed": true
   },
   "outputs": [],
   "source": [
    "# get my quandl api key, I don't want to show the key so I'll read it in.\n",
    "f = open('/Users/kennypotts/Desktop/Data/quandl_api_key.txt', 'r')\n",
    "key = f.read()\n",
    "key = key.strip()\n",
    "quandl.ApiConfig.api_key = key"
   ]
  },
  {
   "cell_type": "code",
   "execution_count": 13,
   "metadata": {
    "collapsed": false
   },
   "outputs": [
    {
     "data": {
      "text/html": [
       "<div>\n",
       "<table border=\"1\" class=\"dataframe\">\n",
       "  <thead>\n",
       "    <tr style=\"text-align: right;\">\n",
       "      <th></th>\n",
       "      <th>Value</th>\n",
       "    </tr>\n",
       "    <tr>\n",
       "      <th>Date</th>\n",
       "      <th></th>\n",
       "    </tr>\n",
       "  </thead>\n",
       "  <tbody>\n",
       "    <tr>\n",
       "      <th>1999-01-04</th>\n",
       "      <td>1.1789</td>\n",
       "    </tr>\n",
       "    <tr>\n",
       "      <th>1999-01-05</th>\n",
       "      <td>1.1790</td>\n",
       "    </tr>\n",
       "    <tr>\n",
       "      <th>1999-01-06</th>\n",
       "      <td>1.1743</td>\n",
       "    </tr>\n",
       "    <tr>\n",
       "      <th>1999-01-07</th>\n",
       "      <td>1.1632</td>\n",
       "    </tr>\n",
       "    <tr>\n",
       "      <th>1999-01-08</th>\n",
       "      <td>1.1659</td>\n",
       "    </tr>\n",
       "  </tbody>\n",
       "</table>\n",
       "</div>"
      ],
      "text/plain": [
       "             Value\n",
       "Date              \n",
       "1999-01-04  1.1789\n",
       "1999-01-05  1.1790\n",
       "1999-01-06  1.1743\n",
       "1999-01-07  1.1632\n",
       "1999-01-08  1.1659"
      ]
     },
     "execution_count": 13,
     "metadata": {},
     "output_type": "execute_result"
    }
   ],
   "source": [
    "data = quandl.get('ECB/EURUSD')\n",
    "data.head()"
   ]
  },
  {
   "cell_type": "code",
   "execution_count": null,
   "metadata": {
    "collapsed": true
   },
   "outputs": [],
   "source": [
    "class Equity:\n",
    "    def __init__(self, symbol, start='1990-01-01', end='today'):\n",
    "        self.symbol = symbol\n",
    "        start = start.split('-')\n",
    "        start = datetime.date(start[0], start[1], start[2])\n",
    "        \n",
    "        if end == 'today':\n",
    "            end = datetime.date.today()\n",
    "        else:\n",
    "            end = end.split('-')\n",
    "            end = datetime.date(end[0],end[1],end[2])\n",
    "            \n",
    "        # See if this data is already stored on the disk\n",
    "        with pd.HDFStore('DataTables.h5') as store:\n",
    "            try:\n",
    "                self.pricing = store[\"/equities/\"+symbol+\"/pricing\"]\n",
    "                self.adj_pricing = store[\"/equities/\"+symbol+\"/adj_pricing\"]\n",
    "                self.returns = store[\"/equities/\"+symbol+\"/returns\"]\n",
    "            except:\n",
    "                self.pricing = web.DataReader(self.symbol,'yahoo', start, end)\n",
    "                self.pricing.name = self.symbol+'_price'\n",
    "                store[\"/equities/\"+symbol+\"/pricing\"] = self.pricing\n",
    "                self.add_adjusted_data()\n",
    "                store[\"/equities/\"+symbol+\"/adj_pricing\"] = self.adj_pricing\n",
    "                self.adj_pricing.name = self.symbol+'/adj_price'\n",
    "                self.returns = np.log(1 + self.pricing['Adj Close'].pct_change())\n",
    "                store[\"/equities/\"+symbol+\"/returns\"] = self.returns\n",
    "                self.returns.name = self.symbol+'_return'\n",
    "        \n",
    "        self.start = self.pricing.index[0]\n",
    "        self.end = self.pricing.index[-1]\n",
    "\n",
    "        \n",
    "        \n",
    "    def add_adjusted_data(self):\n",
    "    \"\"\"\n",
    "    Calculates and adds split adjusted price data as self.adj_pricing.\n",
    "    \n",
    "    Uses yahoo-actions data to determine when and how much stock plits were,\n",
    "    if they have occured. The initial data are adjusted for the splits,\n",
    "    with the exception of the Adj Close and Volume which have already been adjusted.\n",
    "    Adds adjust data as self.adj_pricing\n",
    "    \"\"\"\n",
    "    self.adj_pricing = self.pricing.copy()\n",
    "    actions = web.DataReader(self.symbol, 'yahoo-actions', self.start, self.end)\n",
    "    splits = actions[actions.action == 'SPLIT']\n",
    "    \n",
    "    # Find the index and date of the split\n",
    "    split_idxs = {i:x for i,x in enumerate(self.adj_pricing.index.tolist()) if x in splits.index}\n",
    "    columns = self.adj_pricing.columns.tolist()\n",
    "    \n",
    "    # adjust for the splits\n",
    "    for idx, date in split_idxs.items():\n",
    "        for col in range(len(columns)):\n",
    "            if columns[col] != 'Volume' and columns[col] != 'Adj Close':\n",
    "                # adjust the prices of the shares\n",
    "                self.adj_pricing.iloc[:idx, col] = self.adj_pricing.iloc[:idx, col]*splits.loc[date].value\n",
    "\n",
    "class Currency_Pair:\n",
    "    def __init__(self, base, quote):\n",
    "        \n",
    "        # Check disk for existing data, if nothing, then download\n",
    "        with pd.HDFStore('DataTables.h5') as store:\n",
    "            try:\n",
    "                self.pricing = store['/Currencies/'+base+'/pricing']\n",
    "                self.returns = store['/Currencies/'+base+'/returns']\n",
    "            except:\n",
    "                self.pricing = quandl.get('ECB/'+quote+base)\n",
    "                self.pricing.name = quote+'/'+base+'_price'\n",
    "                self.returns = np.log(1 + self.pricing.pct_change())\n",
    "                self.returns.name = quote+'/'+base+'_return'\n",
    "                store['/Currencies/'+base+'/pricing'] = self.pricing\n",
    "                store['/Currencies/'+base+'/returns'] = self.returns\n",
    "        \n",
    "        self.start = self.pricing.index[0]\n",
    "        self.end = self.pricing.index[-1]\n",
    "                \n",
    "class Currency_Base:\n",
    "    def __init__(self, base):\n",
    "        source = 'ECB' # European Central Bank\n",
    "        self.base = base\n",
    "        \n",
    "        if base != 'EUR':\n",
    "            self.EUR = Currency_Pair(self.base, 'EUR')\n",
    "        if base != 'USD':\n",
    "            self.USD = Currency_Pair(self.base, 'USD')\n",
    "        if base != 'GBP':\n",
    "            self.GBP = Currency_Pair(self.base, 'GBP')\n",
    "        if base != 'CAD':\n",
    "            self.CAD = Currency_Pair(self.base, 'CAD')\n",
    "        if base != 'AUD':\n",
    "            self.AUD = Currency_Pair(self.base, 'AUD')\n",
    "        if base != 'JPY':\n",
    "            self.JPY = Currency_Pair(self.base, 'JPY')\n",
    "        if base != 'CHF':\n",
    "            self.CHF = Currency_Pair(self.base, 'CHF')\n",
    "        if base != 'NZD':\n",
    "            self.NZD = Currency_Pair(self.base, 'NZD')\n",
    "\n",
    "class Data:\n",
    "    __init__(self):\n",
    "        self.currencies = {EUR: Currency_Base('EUR'), USD:'USD', GBP:'GBP', CAD:'CAD', AUD:'AUD', JPY:'JPY', CHF:'CHF', NZD:'NZD'}\n",
    "    "
   ]
  },
  {
   "cell_type": "code",
   "execution_count": 103,
   "metadata": {
    "collapsed": false
   },
   "outputs": [],
   "source": [
    "sample = Series(np.arange(5))"
   ]
  },
  {
   "cell_type": "code",
   "execution_count": null,
   "metadata": {
    "collapsed": true
   },
   "outputs": [],
   "source": []
  }
 ],
 "metadata": {
  "kernelspec": {
   "display_name": "Python [conda env:python3]",
   "language": "python",
   "name": "conda-env-python3-py"
  },
  "language_info": {
   "codemirror_mode": {
    "name": "ipython",
    "version": 3
   },
   "file_extension": ".py",
   "mimetype": "text/x-python",
   "name": "python",
   "nbconvert_exporter": "python",
   "pygments_lexer": "ipython3",
   "version": "3.5.2"
  }
 },
 "nbformat": 4,
 "nbformat_minor": 1
}
