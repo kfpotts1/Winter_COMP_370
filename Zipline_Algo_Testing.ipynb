{
 "cells": [
  {
   "cell_type": "markdown",
   "metadata": {},
   "source": [
    "# Summary of Work\n",
    "\n",
    "#### Initial Work and Lectures\n",
    "\n",
    "So far in this project I have learned the ins an outs of multiple crucial python libraries in the data science stack. This includes the following libraries: Numpy for arrays, matrices, and vectorization; Pandas for dataframes/tables, series, and general data analysis functionality; Matplotlib for advanced visualization of data; Seaborn (high level wrapper over matplotlib) for easy plotting of data; Scipy for numerical and statistical functions and tests; and StatsModels for statistical computations and modeling. In addition, I have learned how to use these libraries to create and implement common finance models and computations. Much of this practice was done through Quantopian's Lecture Series. I learned and practiced, in Python, the following models and computations: plotting financial data; computing means, medians, modes, and other measures of centrality; measureing variance, standard deviation, and other measures of dispersion; implementing linear and multiple linear regression models, common in predictive moding as well as beta and correlation analysis; spearman rank correlation; simulating random variables; hypothesis testing with confidence itervals; maximum likelihood estimation; and beta hedging.\n",
    "\n",
    "#### Researching With New Skills\n",
    "\n",
    "After completing these lectures and experimenting with the code and concepts, I began researching some Ideas. My focus was on the distribution of market returns, more specifically on the evidence of fat tails in the distribution of market returns. This work was inspired by Nassim Taleb's books *The Black Swan* and *Fooled by Randomness*, and by Malcolm Kemp's *Extreme Events: Robust Portfolio Construction in the Presence of fat tails*. Both of these books focus on the notion that market returns are not normally distributed and that they have extreme values much more frequently than observed with a normal distribution. This has large implications for construction trading strategies and portfolios which try to implement a risk management system of some sort. Understanding the distribution of market returns can help in the design of a trading strategy which either benefits greatly from these extreme events or aims to protect the investor from the negative effects of these events.\n",
    "\n",
    "I conducted research on the distribution of market returns using the Python data science skills which I learned in the first portion of the course. I implemented versions of common and not so common statistical methods such as $t$-tests, $Z$-tests, $\\chi^{2}$ tests, skewness tests, kurtosis tests, the Jarque-Bera tests, Quantile-Quantile plots, and the Kolmogorov–Smirnov test. With these tests I gained an understanding of the distribution of the equities and currency markets. I wrote many functions to visualize these test and to get further visual insights beyond just the statistical numbers. Throughout the research I was working with a large amount of data; about 5,000 equities with daily prices and data which I pulled from Yahoo! Finance, and 28 currency pairs from Oanda (Forex Broker). I wrapped all of this data up into a Data object which I created. This object held data for the currencies, equities, and a few market index Exchange Traded Funds meant to be used as benchmarks for the equities market. The Data object also contained functions for selecting and iterating thourhg the assets and their data. I stored this data to my drive using the HDF5 format so that I could retrieve it quickly without having to download it everytime I created the data object. I learned how to use the HDF5 format which is great for working with large data sets. I also learned how to `pickle` object in python which write the object to the disk so that the object can be recreated from the pickled object whenever needed.\n",
    "\n",
    "#### Zipline and Creating an Algorithm\n",
    "\n",
    "The final portion of the project is to implement a trading algorithm based mostly on the ideas within the research that I did. I was originally going to write the algorithm on the Quantopian online platform. I have since decided to write the algorithm locally using the [Zipline](https://github.com/quantopian/zipline) backtester, which is an open source algorithmic trading backtester written in Python by John Fawcett and other members of the Quantopian team. It is the same backtester that runs behind the online Quantopian platform. The algorithm format and design works almost identically with the online version, with a few differences in data fetching and available data. There is no access to Quantopian's data or data pipeline, but working with Zipline directly will give me a better understanding of how it works, and also give me more flexibility because I can work with the source code if needed. Running Zipline locally allows for integration of other data sources as well as live or papertrading capabilities."
   ]
  },
  {
   "cell_type": "markdown",
   "metadata": {},
   "source": [
    "# Zipline"
   ]
  },
  {
   "cell_type": "markdown",
   "metadata": {},
   "source": [
    "## Creating a Trading Algorithm"
   ]
  },
  {
   "cell_type": "code",
   "execution_count": null,
   "metadata": {
    "collapsed": true
   },
   "outputs": [],
   "source": []
  }
 ],
 "metadata": {
  "anaconda-cloud": {},
  "kernelspec": {
   "display_name": "Python [conda root]",
   "language": "python",
   "name": "conda-root-py"
  },
  "language_info": {
   "codemirror_mode": {
    "name": "ipython",
    "version": 2
   },
   "file_extension": ".py",
   "mimetype": "text/x-python",
   "name": "python",
   "nbconvert_exporter": "python",
   "pygments_lexer": "ipython2",
   "version": "2.7.12"
  }
 },
 "nbformat": 4,
 "nbformat_minor": 1
}
